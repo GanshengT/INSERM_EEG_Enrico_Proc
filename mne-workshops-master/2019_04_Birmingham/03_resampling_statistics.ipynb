{
 "cells": [
  {
   "cell_type": "code",
   "execution_count": 1,
   "metadata": {},
   "outputs": [],
   "source": [
    "import os.path as op\n",
    "import numpy as np\n",
    "import mne\n",
    "from mne.datasets import sample\n",
    "mne.set_log_level('WARNING')"
   ]
  },
  {
   "cell_type": "code",
   "execution_count": 2,
   "metadata": {},
   "outputs": [],
   "source": [
    "import matplotlib\n",
    "matplotlib.use('TkAgg')\n",
    "import matplotlib.pyplot as plt"
   ]
  },
  {
   "cell_type": "code",
   "execution_count": 4,
   "metadata": {},
   "outputs": [],
   "source": [
    "data_path = sample.data_path()\n",
    "\n",
    "raw_fname = op.join(data_path, 'MEG', 'sample',\n",
    "                    'sample_audvis_filt-0-40_raw.fif')\n",
    "\n",
    "raw = mne.io.read_raw_fif(raw_fname, preload=False)"
   ]
  },
  {
   "cell_type": "code",
   "execution_count": 5,
   "metadata": {},
   "outputs": [],
   "source": [
    "events = mne.find_events(raw, stim_channel='STI 014')\n",
    "tmin, tmax = -.2, .5\n",
    "baseline = (None, 0)\n",
    "event_id = {'aud/left': 1,\n",
    "            'aud/right': 2,\n",
    "            'vis/left': 3,\n",
    "            'vis/right': 4}\n",
    "reject = dict(grad=4000e-13, mag=4e-12,\n",
    "              eog=150e-6)\n",
    "epochs = mne.Epochs(\n",
    "    raw=raw, events=events, event_id=event_id,\n",
    "    tmin=tmin, tmax=tmax, reject=reject)"
   ]
  },
  {
   "cell_type": "code",
   "execution_count": null,
   "metadata": {},
   "outputs": [],
   "source": [
    "mne.combine_evoked?"
   ]
  },
  {
   "cell_type": "code",
   "execution_count": 7,
   "metadata": {
    "scrolled": false
   },
   "outputs": [],
   "source": [
    "# %matplotlib inline\n",
    "aud_left = epochs['aud/left'].average()\n",
    "aud_right = epochs['aud/right'].average()\n",
    "\n",
    "\n",
    "contrast_1 = mne.combine_evoked(\n",
    "    [aud_left, aud_right], weights=[1, -1])\n",
    "contrast_2 = mne.combine_evoked(\n",
    "    [aud_left, -aud_right], weights='equal')\n",
    "\n",
    "X_contr_sub = aud_left.data - aud_right.data\n",
    "\n",
    "# plt.figure()\n",
    "# plt.plot(X_contr_sub[0, :], contrast_1.data[0, :])\n",
    "# plt.xlabel('subtraction')\n",
    "# plt.ylabel('contrast with weights [1, -1]')\n",
    "# # plt.show()\n",
    "\n",
    "# plt.figure()\n",
    "# plt.plot(X_contr_sub[0, :], contrast_2.data[0, :])\n",
    "# plt.xlabel('subtraction')\n",
    "# plt.ylabel('contrast with weights [0.5, -0.5]')\n",
    "\n",
    "# # plt.show()"
   ]
  },
  {
   "cell_type": "code",
   "execution_count": 8,
   "metadata": {},
   "outputs": [],
   "source": [
    "%matplotlib tk\n",
    "contrast_1.plot(spatial_colors=True);"
   ]
  },
  {
   "cell_type": "code",
   "execution_count": 11,
   "metadata": {},
   "outputs": [
    {
     "data": {
      "text/plain": [
       "2"
      ]
     },
     "execution_count": 11,
     "metadata": {},
     "output_type": "execute_result"
    }
   ],
   "source": [
    "mylist = ['a', 'b', 'c']\n",
    "mylist.index('c')"
   ]
  },
  {
   "cell_type": "code",
   "execution_count": 14,
   "metadata": {},
   "outputs": [
    {
     "name": "stdout",
     "output_type": "stream",
     "text": [
      "155\n",
      "<class 'tuple'>\n",
      "42\n"
     ]
    }
   ],
   "source": [
    "# select channel\n",
    "ch_m1421_idx = epochs.ch_names.index('MEG 1421')\n",
    "print(ch_m1421_idx)\n",
    "\n",
    "# # select time\n",
    "time_mask = epochs.times >= 0.075\n",
    "time_index = np.where(time_mask)\n",
    "print(type(time_index))\n",
    "\n",
    "# untuple index\n",
    "idx_vec = time_index[0]\n",
    "time_idx = idx_vec[0]\n",
    "print(time_idx)"
   ]
  },
  {
   "cell_type": "code",
   "execution_count": 39,
   "metadata": {},
   "outputs": [
    {
     "name": "stdout",
     "output_type": "stream",
     "text": [
      "0.07991808526335514\n",
      "True\n",
      "True\n",
      "True\n"
     ]
    }
   ],
   "source": [
    "time_idx = np.where(time_mask)[0][0]\n",
    "print(epochs.times[time_idx])\n",
    "\n",
    "# # get data\n",
    "X_left = epochs['aud/left'].get_data()[:, ch_m1421_idx, time_idx]\n",
    "X_right = epochs['aud/right'].get_data()[:, ch_m1421_idx, time_idx]\n",
    "\n",
    "\n",
    "print('a' in mylist)\n",
    "print(ch_m1421_idx in mne.pick_types(epochs.info, meg='mag'))\n",
    "print('meg' in epochs)\n",
    "\n",
    "mag_scale = mne.defaults.DEFAULTS['scalings']['mag']\n",
    "assert mag_scale == 1e15\n",
    "\n",
    "X_left *= mag_scale\n",
    "X_right *= mag_scale"
   ]
  },
  {
   "cell_type": "code",
   "execution_count": 40,
   "metadata": {},
   "outputs": [
    {
     "data": {
      "text/plain": [
       "Text(0.5, 0, 'magnetic field fT')"
      ]
     },
     "execution_count": 40,
     "metadata": {},
     "output_type": "execute_result"
    },
    {
     "data": {
      "image/png": "[encoded data removed]",
      "text/plain": [
       "<Figure size 432x288 with 1 Axes>"
      ]
     },
     "metadata": {
      "needs_background": "light"
     },
     "output_type": "display_data"
    }
   ],
   "source": [
    "%matplotlib inline\n",
    "plt.figure()\n",
    "plt.hist(X_left, color='black', bins=30, label='aud/left')\n",
    "plt.hist(X_right, color='blue', bins=30, label='aud/righ');\n",
    "plt.legend(loc='best')\n",
    "plt.xlabel('magnetic field fT')"
   ]
  },
  {
   "cell_type": "code",
   "execution_count": 41,
   "metadata": {},
   "outputs": [
    {
     "name": "stdout",
     "output_type": "stream",
     "text": [
      "194.0527392739778\n"
     ]
    }
   ],
   "source": [
    "t_obs = np.mean(X_left) - np.mean(X_right)\n",
    "print(t_obs)"
   ]
  },
  {
   "cell_type": "markdown",
   "metadata": {},
   "source": [
    "# Let's make a 2 sample permutation test\n",
    "\n",
    "- Construct a null-distribution\n",
    "- decide number of permutations\n",
    "- for each permutation we permute the labels (condition 1 vs condition2)\n",
    "- make big vector by concatenating X_left and X_right\n",
    "- then we sample n_left samples and n_right after permuting a copy of the long vector\n",
    "- and then recompute our test statistic (difference between condition means)\n",
    "- make a histogram and plot together with observed value\n",
    "- compute a p-value by counting the proportions of draws in which the test statistic under the null was greater than the observed test statistic\n",
    "- take care of handling a two-sided test: either consider the absolute statistic or select the smaller p-value and multiply by two.\n",
    "- take care of clipping zeros which may arise from insufficient numbers of permutations\n"
   ]
  },
  {
   "cell_type": "markdown",
   "metadata": {},
   "source": [
    "# tips\n",
    "\n",
    "- np.concatenate\n",
    "- np.random.RandomState\n",
    "- np.random.permutation"
   ]
  },
  {
   "cell_type": "code",
   "execution_count": 42,
   "metadata": {},
   "outputs": [
    {
     "name": "stdout",
     "output_type": "stream",
     "text": [
      "Observed difference of means: 194.053 [fT]\n",
      "p < 0.0064\n"
     ]
    }
   ],
   "source": [
    "t_obs = np.mean(X_left) - np.mean(X_right)\n",
    "\n",
    "x = np.concatenate((X_left, X_right))\n",
    "n = len(x)\n",
    "idx = np.arange(n)\n",
    "n1 = len(X_left)\n",
    "h0 = list()\n",
    "rng = np.random.RandomState(seed=1)\n",
    "n_perm = 5000\n",
    "for ii in range(n_perm):\n",
    "    idx_perm = rng.permutation(idx.copy())\n",
    "    x_perm = x[idx_perm]\n",
    "    t_obs_perm = np.mean(x_perm[:n1]) - np.mean(x_perm[n1:])\n",
    "    h0.append(t_obs_perm)\n",
    "\n",
    "# divide by 2 to avoid 1 sided test \n",
    "\n",
    "p_value = min(np.sum(h0 > t_obs) / len(h0),\n",
    "              np.sum(h0 < -t_obs) / len(h0))\n",
    "\n",
    "# correct for two tests\n",
    "p_value *= 2\n",
    "\n",
    "# clipping when no value was observed above observed statistic\n",
    "p_value = max(p_value, 1 / n_perm)\n",
    "print('Observed difference of means:', np.round(t_obs, 3), '[fT]')\n",
    "print('p <', p_value)"
   ]
  },
  {
   "cell_type": "markdown",
   "metadata": {},
   "source": [
    "# let's simulate stability of p-values\n",
    "\n"
   ]
  },
  {
   "cell_type": "code",
   "execution_count": 44,
   "metadata": {},
   "outputs": [],
   "source": [
    "def permutation_test(n_perm=500, random_state=42):\n",
    "    x = np.concatenate((X_left, X_right))\n",
    "    n = len(x)\n",
    "    idx = np.arange(n)\n",
    "    n1 = len(X_left)\n",
    "    h0 = list()\n",
    "    rng = np.random.RandomState(random_state)\n",
    "    for ii in range(n_perm):\n",
    "        idx_perm = rng.permutation(idx.copy())\n",
    "        x_perm = x[idx_perm]\n",
    "        t_obs = np.mean(x_perm[:n1]) - np.mean(x_perm[n1:])\n",
    "        h0.append(t_obs)\n",
    "    return np.array(h0)"
   ]
  },
  {
   "cell_type": "code",
   "execution_count": 49,
   "metadata": {},
   "outputs": [
    {
     "data": {
      "image/png": "[encoded data removed]",
      "text/plain": [
       "<Figure size 432x288 with 1 Axes>"
      ]
     },
     "metadata": {
      "needs_background": "light"
     },
     "output_type": "display_data"
    }
   ],
   "source": [
    "h0500 = permutation_test(n_perm=500, random_state=200)\n",
    "plt.hist(h0500, bins=100);"
   ]
  },
  {
   "cell_type": "code",
   "execution_count": 73,
   "metadata": {},
   "outputs": [],
   "source": [
    "def compute_p(h0, t_obs):\n",
    "    p_value = np.mean(np.abs(h0) > np.abs(t_obs))\n",
    "    # clipping when no value was observed above observed statistic\n",
    "    p_value = max(p_value, 1 / len(h0))\n",
    "    return p_value"
   ]
  },
  {
   "cell_type": "code",
   "execution_count": 74,
   "metadata": {
    "scrolled": true
   },
   "outputs": [],
   "source": [
    "permutation_range = np.arange(50, 10000, 20)\n",
    "rng2 = np.random.RandomState(1)\n",
    "seeds = rng2.randint(0, 1000, size=5)"
   ]
  },
  {
   "cell_type": "code",
   "execution_count": 75,
   "metadata": {},
   "outputs": [],
   "source": [
    "p_vals = np.array(\n",
    "    [[compute_p(permutation_test(\n",
    "                n_perm=n_perm, random_state=seed), t_obs)\n",
    "      for n_perm in permutation_range] for seed in seeds])"
   ]
  },
  {
   "cell_type": "code",
   "execution_count": 76,
   "metadata": {},
   "outputs": [
    {
     "data": {
      "text/plain": [
       "Text(0, 0.5, 'p-value')"
      ]
     },
     "execution_count": 76,
     "metadata": {},
     "output_type": "execute_result"
    },
    {
     "data": {
      "image/png": "[encoded data removed]",
      "text/plain": [
       "<Figure size 432x288 with 1 Axes>"
      ]
     },
     "metadata": {
      "needs_background": "light"
     },
     "output_type": "display_data"
    }
   ],
   "source": [
    "plt.figure()\n",
    "plt.semilogx(permutation_range, p_vals.T)\n",
    "plt.xlabel('n permutations')\n",
    "plt.ylabel('p-value')\n",
    "# plt.ylim(0, 0.1)"
   ]
  },
  {
   "cell_type": "markdown",
   "metadata": {},
   "source": [
    "# Nonparametric Bootstrap\n",
    "\n",
    "- prepare for 2000 iterations\n",
    "- in each iteration, sample with replacement and randomly a subset of condition 1 and a second subset of condition 2 (2 draws 1 for each).\n",
    "- compute the t_obs for that bootstrap replica and save it\n",
    "- make a histogram that displays the t_obs* distributio and the initial t_obs\n",
    "- draw the 5% and the 95% confidence intervals on the histogram"
   ]
  },
  {
   "cell_type": "code",
   "execution_count": 89,
   "metadata": {},
   "outputs": [
    {
     "data": {
      "text/plain": [
       "<matplotlib.lines.Line2D at 0x130fce2b0>"
      ]
     },
     "execution_count": 89,
     "metadata": {},
     "output_type": "execute_result"
    },
    {
     "data": {
      "image/png": "[encoded data removed]",
      "text/plain": [
       "<Figure size 432x288 with 1 Axes>"
      ]
     },
     "metadata": {
      "needs_background": "light"
     },
     "output_type": "display_data"
    }
   ],
   "source": [
    "n_boots = 2000\n",
    "bootstraps = list()\n",
    "rng3 = np.random.RandomState(12)\n",
    "for _ in range(200000):\n",
    "    this_X_left = rng3.choice(\n",
    "        X_left, size=len(X_left), replace=True)\n",
    "    this_X_right = rng3.choice(\n",
    "        X_right, size=len(X_right), replace=True)\n",
    "    bootstraps.append(\n",
    "        this_X_left.mean() - this_X_right.mean()\n",
    "    )\n",
    "\n",
    "plt.hist(bootstraps, bins=50)\n",
    "plt.axvline(t_obs, color='black', linestyle='--')\n",
    "ci_5, ci_95 = np.percentile(bootstraps, (2.5, 97.5)).T\n",
    "plt.axvline(ci_5, color='red')\n",
    "plt.axvline(ci_95, color='red')    "
   ]
  },
  {
   "cell_type": "code",
   "execution_count": 90,
   "metadata": {},
   "outputs": [
    {
     "name": "stdout",
     "output_type": "stream",
     "text": [
      "the bias is 0.113\n"
     ]
    }
   ],
   "source": [
    "print(\"the bias is %0.3f\" % (np.mean(bootstraps) - t_obs))"
   ]
  }
 ],
 "metadata": {
  "kernel_info": {
   "name": "python3"
  },
  "kernelspec": {
   "display_name": "Python 3",
   "language": "python",
   "name": "python3"
  },
  "language_info": {
   "codemirror_mode": {
    "name": "ipython",
    "version": 3
   },
   "file_extension": ".py",
   "mimetype": "text/x-python",
   "name": "python",
   "nbconvert_exporter": "python",
   "pygments_lexer": "ipython3",
   "version": "3.6.6"
  },
  "nteract": {
   "version": "0.2.0"
  }
 },
 "nbformat": 4,
 "nbformat_minor": 2
}
