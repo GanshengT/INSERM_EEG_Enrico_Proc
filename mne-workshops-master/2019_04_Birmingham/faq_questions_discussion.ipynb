{
 "cells": [
  {
   "cell_type": "code",
   "execution_count": 1,
   "metadata": {},
   "outputs": [],
   "source": [
    "import mne"
   ]
  },
  {
   "cell_type": "code",
   "execution_count": 2,
   "metadata": {},
   "outputs": [],
   "source": [
    "# computew projs on empty room or other raw data\n"
   ]
  },
  {
   "cell_type": "markdown",
   "metadata": {},
   "source": [
    "# FAQ\n",
    "\n",
    "1. Can we analyze gradiometers and magnetometers separately?\n",
    "\n",
    "Yes we can. We should not analyz the 2 gradiometers from each pair of gradiometers separately.\n",
    "However, note that maxfilter will fuse the magnetometers and the gradiometers statistically, such that they represent alternative views on the same data.\n",
    "\n",
    "\n",
    "2. Can we do joint ICA on magnetometers and gradiometers\n",
    "\n",
    "Yes we can.\n",
    "\n",
    "\n",
    "3. can we compute projection vectors by hand from empty room data?\n",
    "\n",
    "Yes. Use: ``mne.compute_proj_raw``\n",
    "\n",
    "Save with ``mne.write_proj``\n",
    "\n",
    "\n",
    "4. I imported my EEGLAB. Where are my events? There is no stim channel!\n",
    "\n",
    "Don't be frightened, they are there. \n",
    "\n",
    "Take a look at ``raw.annotations``. You can get the events out using\n",
    "\n",
    "``mne.events_from_annotations``\n",
    "\n",
    "http://www.nmr.mgh.harvard.edu/mne/dev/generated/mne.events_from_annotations.html\n",
    "\n",
    "\n",
    "5. How should I structure my code for doing group analysis efficiently\n",
    "\n",
    "Take a look here: http://mne-tools.github.io/mne-biomag-group-demo/\n",
    "\n",
    "https://github.com/mne-tools/mne-biomag-group-demo/tree/master/scripts/processing\n",
    "\n",
    "The paper:\n",
    "https://www.frontiersin.org/articles/10.3389/fnins.2018.00530/full\n",
    "\n",
    "\n",
    "6. How to force Jupyter to show the figure for interactive plotting\n",
    "\n",
    "Run this at the very beginning before using matplotlib\n",
    "\n",
    "```Python\n",
    "import matplotlib\n",
    "matplotlib.use('TkAgg')\n",
    "import matplotlib.pyplot as plt\n",
    "```\n"
   ]
  },
  {
   "cell_type": "code",
   "execution_count": 5,
   "metadata": {},
   "outputs": [],
   "source": [
    "montage = mne.channels.read_montage('biosemi128.txt')"
   ]
  }
 ],
 "metadata": {
  "kernelspec": {
   "display_name": "Python 3",
   "language": "python",
   "name": "python3"
  },
  "language_info": {
   "codemirror_mode": {
    "name": "ipython",
    "version": 3
   },
   "file_extension": ".py",
   "mimetype": "text/x-python",
   "name": "python",
   "nbconvert_exporter": "python",
   "pygments_lexer": "ipython3",
   "version": "3.6.8"
  }
 },
 "nbformat": 4,
 "nbformat_minor": 2
}
