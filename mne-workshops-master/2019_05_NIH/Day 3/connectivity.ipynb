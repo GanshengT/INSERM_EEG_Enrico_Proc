{
 "cells": [
  {
   "cell_type": "markdown",
   "metadata": {
    "slideshow": {
     "slide_type": "slide"
    }
   },
   "source": [
    "# Connectivity\n",
    "\n",
    "1. Spectral connectivity\n",
    "2. Source PSD\n",
    "3. Envelope correlations"
   ]
  },
  {
   "cell_type": "markdown",
   "metadata": {
    "slideshow": {
     "slide_type": "slide"
    }
   },
   "source": [
    "## 1. Spectral connectivity\n",
    "\n",
    "Adapted from:\n",
    "\n",
    "https://martinos.org/mne/stable/auto_examples/connectivity/plot_mne_inverse_connectivity_spectrum.html\n",
    "\n",
    "Compute connectivity between 4 source space labels across the spectrum\n",
    "between 7.5 Hz and 40 Hz.\n"
   ]
  },
  {
   "cell_type": "code",
   "execution_count": 1,
   "metadata": {
    "scrolled": false,
    "slideshow": {
     "slide_type": "slide"
    }
   },
   "outputs": [],
   "source": [
    "import mne\n",
    "from mne.datasets import sample\n",
    "from mne.minimum_norm import apply_inverse_epochs, read_inverse_operator\n",
    "from mne.connectivity import spectral_connectivity\n",
    "\n",
    "data_path = sample.data_path()\n",
    "subjects_dir = data_path + '/subjects'\n",
    "fname_inv = data_path + '/MEG/sample/sample_audvis-meg-oct-6-meg-inv.fif'\n",
    "fname_raw = data_path + '/MEG/sample/sample_audvis_filt-0-40_raw.fif'\n",
    "fname_event = data_path + '/MEG/sample/sample_audvis_filt-0-40_raw-eve.fif'\n",
    "\n",
    "%matplotlib qt"
   ]
  },
  {
   "cell_type": "code",
   "execution_count": 2,
   "metadata": {
    "scrolled": false,
    "slideshow": {
     "slide_type": "fragment"
    }
   },
   "outputs": [],
   "source": [
    "# Load data\n",
    "raw = mne.io.read_raw_fif(fname_raw)\n",
    "events = mne.read_events(fname_event)\n",
    "raw.info['bads'] += ['MEG 2443']\n",
    "event_id = {'Auditory/Left': 1}\n",
    "epochs = mne.Epochs(raw, events, event_id,\n",
    "                    reject=dict(mag=4e-12, grad=4000e-13, eog=150e-6),\n",
    "                    preload=True)"
   ]
  },
  {
   "cell_type": "code",
   "execution_count": 3,
   "metadata": {
    "scrolled": false,
    "slideshow": {
     "slide_type": "slide"
    }
   },
   "outputs": [
    {
     "name": "stdout",
     "output_type": "stream",
     "text": [
      "<generator object _apply_inverse_epochs_gen at 0x116b2cbf8>\n"
     ]
    }
   ],
   "source": [
    "# Compute inverse solution and for each epoch. By using \"return_generator=True\"\n",
    "# stcs will be a generator object instead of a list.\n",
    "\n",
    "inv = read_inverse_operator(fname_inv)\n",
    "stcs = apply_inverse_epochs(epochs, inv, lambda2=1. / 9.,\n",
    "                            pick_ori=\"normal\", return_generator=True)\n",
    "print(stcs)"
   ]
  },
  {
   "cell_type": "code",
   "execution_count": 4,
   "metadata": {
    "scrolled": false,
    "slideshow": {
     "slide_type": "fragment"
    }
   },
   "outputs": [
    {
     "name": "stdout",
     "output_type": "stream",
     "text": [
      "362\n",
      "<Label  |  fsaverage, '???-lh', lh : 13868 vertices>\n",
      "362\n",
      "<Label  |  sample, '???-lh', lh : 9780 vertices>\n"
     ]
    }
   ],
   "source": [
    "# Get the HCP-MMP parcellation labels\n",
    "mne.datasets.fetch_hcp_mmp_parcellation(verbose=True, subjects_dir=subjects_dir)\n",
    "# Read them\n",
    "labels = mne.read_labels_from_annot('fsaverage', 'HCPMMP1', subjects_dir=subjects_dir)\n",
    "print(len(labels))\n",
    "print(labels[0])\n",
    "# Morph them\n",
    "labels = mne.morph_labels(labels, 'sample', subjects_dir=subjects_dir)\n",
    "print(len(labels))\n",
    "print(labels[0])"
   ]
  },
  {
   "cell_type": "code",
   "execution_count": 5,
   "metadata": {
    "scrolled": true,
    "slideshow": {
     "slide_type": "fragment"
    }
   },
   "outputs": [
    {
     "name": "stdout",
     "output_type": "stream",
     "text": [
      "[<Label  |  sample, 'L_A1_ROI-lh', lh : 285 vertices>, <Label  |  sample, 'R_A1_ROI-rh', rh : 260 vertices>, <Label  |  sample, 'L_V1_ROI-lh', lh : 5057 vertices>, <Label  |  sample, 'R_V1_ROI-rh', rh : 5172 vertices>]\n"
     ]
    }
   ],
   "source": [
    "# Read four specific labels (A1 and V1 in left and right)\n",
    "names = ['L_A1_ROI-lh', 'R_A1_ROI-rh', 'L_V1_ROI-lh', 'R_V1_ROI-rh']\n",
    "label_names = [label.name for label in labels]\n",
    "labels = [labels[label_names.index(name)] for name in names]\n",
    "print(labels)"
   ]
  },
  {
   "cell_type": "code",
   "execution_count": 6,
   "metadata": {
    "scrolled": false,
    "slideshow": {
     "slide_type": "fragment"
    }
   },
   "outputs": [
    {
     "name": "stdout",
     "output_type": "stream",
     "text": [
      "<generator object _gen_extract_label_time_course at 0x834efb780>\n"
     ]
    }
   ],
   "source": [
    "# Average the source estimates within each label using sign-flips to reduce\n",
    "# signal cancellations, also here we return a generator\n",
    "label_ts = mne.extract_label_time_course(stcs, labels, inv['src'], mode='mean_flip',\n",
    "                                         return_generator=True)\n",
    "print(label_ts)"
   ]
  },
  {
   "cell_type": "code",
   "execution_count": 7,
   "metadata": {
    "scrolled": true,
    "slideshow": {
     "slide_type": "slide"
    }
   },
   "outputs": [
    {
     "name": "stdout",
     "output_type": "stream",
     "text": [
      "Connectivity computation...\n",
      "Preparing the inverse operator for use...\n",
      "    Scaled noise and source covariance from nave = 1 to nave = 1\n",
      "    Created the regularized inverter\n",
      "    Created an SSP operator (subspace dimension = 3)\n",
      "    Created the whitener using a noise covariance matrix with rank 302 (3 small eigenvalues omitted)\n",
      "    Computing noise-normalization factors (dSPM)...\n",
      "[done]\n",
      "Picked 305 channels from the data\n",
      "Computing inverse...\n",
      "    Eigenleads need to be weighted ...\n",
      "Processing epoch : 1 / 55\n",
      "Extracting time courses for 4 labels (mode: mean_flip)\n",
      "only using indices for lower-triangular matrix\n",
      "    computing connectivity for 6 connections\n",
      "    using t=0.000s..0.699s for estimation (106 points)\n",
      "    frequencies: 8.5Hz..39.7Hz (23 points)\n",
      "    Using multitaper spectrum estimation with 7 DPSS windows\n",
      "    the following metrics will be computed: Debiased WPLI Square\n",
      "    computing connectivity for epoch 1\n",
      "Processing epoch : 2 / 55\n",
      "Extracting time courses for 4 labels (mode: mean_flip)\n",
      "    computing connectivity for epoch 2\n",
      "Processing epoch : 3 / 55\n",
      "Extracting time courses for 4 labels (mode: mean_flip)\n",
      "    computing connectivity for epoch 3\n",
      "Processing epoch : 4 / 55\n",
      "Extracting time courses for 4 labels (mode: mean_flip)\n",
      "    computing connectivity for epoch 4\n",
      "Processing epoch : 5 / 55\n",
      "Extracting time courses for 4 labels (mode: mean_flip)\n",
      "    computing connectivity for epoch 5\n",
      "Processing epoch : 6 / 55\n",
      "Extracting time courses for 4 labels (mode: mean_flip)\n",
      "    computing connectivity for epoch 6\n",
      "Processing epoch : 7 / 55\n",
      "Extracting time courses for 4 labels (mode: mean_flip)\n",
      "    computing connectivity for epoch 7\n",
      "Processing epoch : 8 / 55\n",
      "Extracting time courses for 4 labels (mode: mean_flip)\n",
      "    computing connectivity for epoch 8\n",
      "Processing epoch : 9 / 55\n",
      "Extracting time courses for 4 labels (mode: mean_flip)\n",
      "    computing connectivity for epoch 9\n",
      "Processing epoch : 10 / 55\n",
      "Extracting time courses for 4 labels (mode: mean_flip)\n",
      "    computing connectivity for epoch 10\n",
      "Processing epoch : 11 / 55\n",
      "Extracting time courses for 4 labels (mode: mean_flip)\n",
      "    computing connectivity for epoch 11\n",
      "Processing epoch : 12 / 55\n",
      "Extracting time courses for 4 labels (mode: mean_flip)\n",
      "    computing connectivity for epoch 12\n",
      "Processing epoch : 13 / 55\n",
      "Extracting time courses for 4 labels (mode: mean_flip)\n",
      "    computing connectivity for epoch 13\n",
      "Processing epoch : 14 / 55\n",
      "Extracting time courses for 4 labels (mode: mean_flip)\n",
      "    computing connectivity for epoch 14\n",
      "Processing epoch : 15 / 55\n",
      "Extracting time courses for 4 labels (mode: mean_flip)\n",
      "    computing connectivity for epoch 15\n",
      "Processing epoch : 16 / 55\n",
      "Extracting time courses for 4 labels (mode: mean_flip)\n",
      "    computing connectivity for epoch 16\n",
      "Processing epoch : 17 / 55\n",
      "Extracting time courses for 4 labels (mode: mean_flip)\n",
      "    computing connectivity for epoch 17\n",
      "Processing epoch : 18 / 55\n",
      "Extracting time courses for 4 labels (mode: mean_flip)\n",
      "    computing connectivity for epoch 18\n",
      "Processing epoch : 19 / 55\n",
      "Extracting time courses for 4 labels (mode: mean_flip)\n",
      "    computing connectivity for epoch 19\n",
      "Processing epoch : 20 / 55\n",
      "Extracting time courses for 4 labels (mode: mean_flip)\n",
      "    computing connectivity for epoch 20\n",
      "Processing epoch : 21 / 55\n",
      "Extracting time courses for 4 labels (mode: mean_flip)\n",
      "    computing connectivity for epoch 21\n",
      "Processing epoch : 22 / 55\n",
      "Extracting time courses for 4 labels (mode: mean_flip)\n",
      "    computing connectivity for epoch 22\n",
      "Processing epoch : 23 / 55\n",
      "Extracting time courses for 4 labels (mode: mean_flip)\n",
      "    computing connectivity for epoch 23\n",
      "Processing epoch : 24 / 55\n",
      "Extracting time courses for 4 labels (mode: mean_flip)\n",
      "    computing connectivity for epoch 24\n",
      "Processing epoch : 25 / 55\n",
      "Extracting time courses for 4 labels (mode: mean_flip)\n",
      "    computing connectivity for epoch 25\n",
      "Processing epoch : 26 / 55\n",
      "Extracting time courses for 4 labels (mode: mean_flip)\n",
      "    computing connectivity for epoch 26\n",
      "Processing epoch : 27 / 55\n",
      "Extracting time courses for 4 labels (mode: mean_flip)\n",
      "    computing connectivity for epoch 27\n",
      "Processing epoch : 28 / 55\n",
      "Extracting time courses for 4 labels (mode: mean_flip)\n",
      "    computing connectivity for epoch 28\n",
      "Processing epoch : 29 / 55\n",
      "Extracting time courses for 4 labels (mode: mean_flip)\n",
      "    computing connectivity for epoch 29\n",
      "Processing epoch : 30 / 55\n",
      "Extracting time courses for 4 labels (mode: mean_flip)\n",
      "    computing connectivity for epoch 30\n",
      "Processing epoch : 31 / 55\n",
      "Extracting time courses for 4 labels (mode: mean_flip)\n",
      "    computing connectivity for epoch 31\n",
      "Processing epoch : 32 / 55\n",
      "Extracting time courses for 4 labels (mode: mean_flip)\n",
      "    computing connectivity for epoch 32\n",
      "Processing epoch : 33 / 55\n",
      "Extracting time courses for 4 labels (mode: mean_flip)\n",
      "    computing connectivity for epoch 33\n",
      "Processing epoch : 34 / 55\n",
      "Extracting time courses for 4 labels (mode: mean_flip)\n",
      "    computing connectivity for epoch 34\n",
      "Processing epoch : 35 / 55\n",
      "Extracting time courses for 4 labels (mode: mean_flip)\n",
      "    computing connectivity for epoch 35\n",
      "Processing epoch : 36 / 55\n",
      "Extracting time courses for 4 labels (mode: mean_flip)\n",
      "    computing connectivity for epoch 36\n",
      "Processing epoch : 37 / 55\n",
      "Extracting time courses for 4 labels (mode: mean_flip)\n",
      "    computing connectivity for epoch 37\n",
      "Processing epoch : 38 / 55\n",
      "Extracting time courses for 4 labels (mode: mean_flip)\n",
      "    computing connectivity for epoch 38\n",
      "Processing epoch : 39 / 55\n",
      "Extracting time courses for 4 labels (mode: mean_flip)\n",
      "    computing connectivity for epoch 39\n",
      "Processing epoch : 40 / 55\n",
      "Extracting time courses for 4 labels (mode: mean_flip)\n",
      "    computing connectivity for epoch 40\n",
      "Processing epoch : 41 / 55\n",
      "Extracting time courses for 4 labels (mode: mean_flip)\n",
      "    computing connectivity for epoch 41\n",
      "Processing epoch : 42 / 55\n",
      "Extracting time courses for 4 labels (mode: mean_flip)\n",
      "    computing connectivity for epoch 42\n",
      "Processing epoch : 43 / 55\n",
      "Extracting time courses for 4 labels (mode: mean_flip)\n",
      "    computing connectivity for epoch 43\n",
      "Processing epoch : 44 / 55\n",
      "Extracting time courses for 4 labels (mode: mean_flip)\n",
      "    computing connectivity for epoch 44\n",
      "Processing epoch : 45 / 55\n",
      "Extracting time courses for 4 labels (mode: mean_flip)\n",
      "    computing connectivity for epoch 45\n",
      "Processing epoch : 46 / 55\n",
      "Extracting time courses for 4 labels (mode: mean_flip)\n",
      "    computing connectivity for epoch 46\n",
      "Processing epoch : 47 / 55\n",
      "Extracting time courses for 4 labels (mode: mean_flip)\n",
      "    computing connectivity for epoch 47\n",
      "Processing epoch : 48 / 55\n",
      "Extracting time courses for 4 labels (mode: mean_flip)\n",
      "    computing connectivity for epoch 48\n",
      "Processing epoch : 49 / 55\n",
      "Extracting time courses for 4 labels (mode: mean_flip)\n",
      "    computing connectivity for epoch 49\n",
      "Processing epoch : 50 / 55\n",
      "Extracting time courses for 4 labels (mode: mean_flip)\n",
      "    computing connectivity for epoch 50\n",
      "Processing epoch : 51 / 55\n",
      "Extracting time courses for 4 labels (mode: mean_flip)\n",
      "    computing connectivity for epoch 51\n",
      "Processing epoch : 52 / 55\n",
      "Extracting time courses for 4 labels (mode: mean_flip)\n",
      "    computing connectivity for epoch 52\n",
      "Processing epoch : 53 / 55\n",
      "Extracting time courses for 4 labels (mode: mean_flip)\n",
      "    computing connectivity for epoch 53\n",
      "Processing epoch : 54 / 55\n",
      "Extracting time courses for 4 labels (mode: mean_flip)\n",
      "    computing connectivity for epoch 54\n",
      "Processing epoch : 55 / 55\n",
      "Extracting time courses for 4 labels (mode: mean_flip)\n",
      "    computing connectivity for epoch 55\n",
      "[done]\n",
      "    assembling connectivity matrix (filling the upper triangular region of the matrix)\n",
      "[Connectivity computation done]\n"
     ]
    }
   ],
   "source": [
    "# compute the connectivity\n",
    "fmin, fmax = 7.5, 40.\n",
    "method = 'wpli2_debiased'  # 'coh', etc.\n",
    "con, freqs, times, n_epochs, n_tapers = spectral_connectivity(\n",
    "    label_ts, method=method, sfreq=epochs.info['sfreq'],\n",
    "    fmin=fmin, fmax=fmax, verbose=True)"
   ]
  },
  {
   "cell_type": "code",
   "execution_count": 8,
   "metadata": {
    "scrolled": false,
    "slideshow": {
     "slide_type": "fragment"
    }
   },
   "outputs": [],
   "source": [
    "# Do some matplotlib to plot the data\n",
    "import matplotlib.pyplot as plt\n",
    "n_rows, n_cols = con.shape[:2]\n",
    "fig, axes = plt.subplots(n_rows, n_cols, sharex=True, sharey=True)\n",
    "for i in range(n_rows):\n",
    "    for j in range(i + 1):\n",
    "        if i == j:\n",
    "            fig.delaxes(axes[i, j])\n",
    "            continue\n",
    "        axes[i, j].plot(freqs, con[i, j, :])\n",
    "        axes[j, i].plot(freqs, con[i, j, :])\n",
    "\n",
    "        if j == 0:\n",
    "            axes[i, j].set_ylabel(names[i])\n",
    "            axes[0, i].set_title(names[i])\n",
    "        if i == (n_rows - 1):\n",
    "            axes[i, j].set_xlabel(names[j])\n",
    "        axes[i, j].set(xlim=[fmin, fmax], ylim=[-0.1, 1])\n",
    "        axes[j, i].set(xlim=[fmin, fmax], ylim=[-0.1, 1])\n",
    "        for f in [8, 12, 18, 35]:\n",
    "            axes[i, j].axvline(f, color='k')\n",
    "            axes[j, i].axvline(f, color='k')\n",
    "plt.tight_layout()\n",
    "plt.show()"
   ]
  },
  {
   "cell_type": "markdown",
   "metadata": {
    "slideshow": {
     "slide_type": "slide"
    }
   },
   "source": [
    "## 2. Source PSD analysis\n",
    "\n",
    "- Compute the resting state PSD from raw data.\n",
    "- Mostly follow the Brainstorm OMEGA resting tutorial pipeline:\n",
    "  1. Filtering: downsample heavily.\n",
    "  2. Artifact detection: use SSP for EOG and ECG.\n",
    "  3. Source localization: dSPM, depth weighting, cortically constrained.\n",
    "  4. Frequency: power spectrum density (Welch), 4 sec window, 50% overlap.\n",
    "  5. Standardize: normalize by relative power for each source."
   ]
  },
  {
   "cell_type": "code",
   "execution_count": 9,
   "metadata": {
    "scrolled": false,
    "slideshow": {
     "slide_type": "slide"
    }
   },
   "outputs": [],
   "source": [
    "import os.path as op\n",
    "data_path = mne.datasets.opm.data_path(verbose=True)\n",
    "subject = 'OPM_sample'\n",
    "subjects_dir = op.join(data_path, 'subjects')\n",
    "bem_dir = op.join(subjects_dir, subject, 'bem')\n",
    "bem_fname = op.join(subjects_dir, subject, 'bem',\n",
    "                    subject + '-5120-5120-5120-bem-sol.fif')\n",
    "src_fname = op.join(bem_dir, '%s-oct6-src.fif' % subject)\n",
    "raw_fname = data_path + '/MEG/SQUID/SQUID_resting_state.fif'\n",
    "erm_fname = data_path + '/MEG/SQUID/SQUID_empty_room.fif'\n",
    "trans_fname = data_path + '/MEG/SQUID/SQUID-trans.fif'"
   ]
  },
  {
   "cell_type": "code",
   "execution_count": 10,
   "metadata": {
    "scrolled": false,
    "slideshow": {
     "slide_type": "fragment"
    }
   },
   "outputs": [
    {
     "name": "stdout",
     "output_type": "stream",
     "text": [
      "<Raw  |  SQUID_resting_state.fif, n_channels x n_times : 310 x 62000 (62.0 sec), ~6.8 MB, data not loaded>\n",
      "<Raw  |  SQUID_resting_state.fif, n_channels x n_times : 310 x 5580 (62.0 sec), ~20.0 MB, data loaded>\n",
      "<Raw  |  SQUID_empty_room.fif, n_channels x n_times : 310 x 5490 (61.0 sec), ~13.9 MB, data loaded>\n"
     ]
    }
   ],
   "source": [
    "new_sfreq = 90.  # Nyquist frequency (45 Hz) < line noise freq (50 Hz)\n",
    "raw = mne.io.read_raw_fif(raw_fname, verbose='error')  # ignore naming\n",
    "print(raw)\n",
    "raw.load_data().resample(new_sfreq)\n",
    "print(raw)\n",
    "raw.info['bads'] = ['MEG2233', 'MEG1842']\n",
    "raw_erm = mne.io.read_raw_fif(erm_fname, verbose='error')\n",
    "raw_erm.load_data().resample(new_sfreq)\n",
    "raw_erm.info['bads'] = ['MEG2233', 'MEG1842']\n",
    "print(raw_erm)"
   ]
  },
  {
   "cell_type": "code",
   "execution_count": 11,
   "metadata": {
    "scrolled": false,
    "slideshow": {
     "slide_type": "fragment"
    }
   },
   "outputs": [],
   "source": [
    "ssp_ecg, _ = mne.preprocessing.compute_proj_ecg(\n",
    "    raw, tmin=-0.1, tmax=0.1, n_grad=1, n_mag=1)\n",
    "raw.add_proj(ssp_ecg, remove_existing=True)\n",
    "ssp_ecg_eog, _ = mne.preprocessing.compute_proj_eog(\n",
    "    raw, n_grad=1, n_mag=1, ch_name='MEG0112')\n",
    "raw.add_proj(ssp_ecg_eog, remove_existing=True)\n",
    "raw_erm.add_proj(ssp_ecg_eog)\n",
    "fig = mne.viz.plot_projs_topomap(raw.info['projs'][-4:],\n",
    "                                 info=raw.info)\n",
    "fig.subplots_adjust(0.05, 0.05, 0.95, 0.85)"
   ]
  },
  {
   "cell_type": "code",
   "execution_count": 12,
   "metadata": {
    "scrolled": false,
    "slideshow": {
     "slide_type": "slide"
    }
   },
   "outputs": [
    {
     "name": "stdout",
     "output_type": "stream",
     "text": [
      "Using n_fft=360 (4.0 sec)\n"
     ]
    }
   ],
   "source": [
    "from mne.filter import next_fast_len\n",
    "n_fft = next_fast_len(int(round(4 * new_sfreq)))\n",
    "print('Using n_fft=%d (%0.1f sec)' % (n_fft, n_fft / raw.info['sfreq']))\n",
    "fig = raw.plot_psd(n_fft=n_fft, proj=True)\n",
    "fig.subplots_adjust(0.1, 0.1, 0.95, 0.85)"
   ]
  },
  {
   "cell_type": "code",
   "execution_count": 13,
   "metadata": {
    "scrolled": false,
    "slideshow": {
     "slide_type": "slide"
    }
   },
   "outputs": [
    {
     "data": {
      "text/plain": [
       "<mayavi.core.scene.Scene at 0x1c3b5b4048>"
      ]
     },
     "execution_count": 13,
     "metadata": {},
     "output_type": "execute_result"
    }
   ],
   "source": [
    "src = mne.read_source_spaces(src_fname)\n",
    "bem = mne.read_bem_solution(bem_fname)\n",
    "fig = mne.viz.plot_alignment(\n",
    "    raw.info, trans=trans_fname, subject=subject,\n",
    "    subjects_dir=subjects_dir, dig=True, coord_frame='meg',\n",
    "    surfaces=('head', 'white'))\n",
    "from mayavi import mlab\n",
    "mlab.view(0, 90, focalpoint=(0., 0., 0.), distance=0.6, figure=fig)\n",
    "fig"
   ]
  },
  {
   "cell_type": "code",
   "execution_count": 14,
   "metadata": {
    "scrolled": true,
    "slideshow": {
     "slide_type": "fragment"
    }
   },
   "outputs": [
    {
     "name": "stdout",
     "output_type": "stream",
     "text": [
      "Source space          : <SourceSpaces: [<surface (lh), n_vertices=169022, n_used=4098, coordinate_frame=MRI (surface RAS)>, <surface (rh), n_vertices=169992, n_used=4098, coordinate_frame=MRI (surface RAS)>]>\n",
      "MRI -> head transform : /Users/larsoner/mne_data/MNE-OPM-data/MEG/SQUID/SQUID-trans.fif\n",
      "Measurement data      : instance of Info\n",
      "Conductor model   : instance of ConductorModel\n",
      "Accurate field computations\n",
      "Do computations in head coordinates\n",
      "Free source orientations\n",
      "\n",
      "Read 2 source spaces a total of 8196 active source locations\n",
      "\n",
      "Coordinate transformation: MRI (surface RAS) -> head\n",
      "     0.995623 -0.029776 -0.088592       1.15 mm\n",
      "     0.062622  0.916188  0.395825       5.31 mm\n",
      "     0.069381 -0.399641  0.914042      25.88 mm\n",
      "     0.000000  0.000000  0.000000       1.00\n",
      "\n",
      "Read 306 MEG channels from info\n",
      "84 coil definitions read\n",
      "Coordinate transformation: MEG device -> head\n",
      "     0.993107 -0.074371 -0.090590       0.76 mm\n",
      "     0.079171  0.995577  0.050589     -13.97 mm\n",
      "     0.086427 -0.057412  0.994603      60.91 mm\n",
      "     0.000000  0.000000  0.000000       1.00\n",
      "MEG coil definitions created in head coordinates.\n",
      "Source spaces are now in head coordinates.\n",
      "\n",
      "Employing the head->MRI coordinate transform with the BEM model.\n",
      "BEM model instance of ConductorModel is now set up\n",
      "\n",
      "Source spaces are in head coordinates.\n",
      "Checking that the sources are inside the bounding surface (will take a few...)\n",
      "Thank you for waiting.\n",
      "\n",
      "Setting up compensation data...\n",
      "    No compensation set. Nothing more to do.\n",
      "\n",
      "Composing the field computation matrix...\n",
      "Computing MEG at 8196 source locations (free orientations)...\n",
      "\n",
      "Finished.\n"
     ]
    }
   ],
   "source": [
    "fwd = mne.make_forward_solution(\n",
    "    raw.info, trans_fname, src, bem, eeg=False, verbose=True)"
   ]
  },
  {
   "cell_type": "markdown",
   "metadata": {
    "slideshow": {
     "slide_type": "slide"
    }
   },
   "source": [
    "In source space:\n",
    "\n",
    "1. Compute and apply inverse to PSD estimated using multitaper + Welch.\n",
    "2. Group into frequency bands\n",
    "3. Normalize each source point independently (by total power across freq bands)\n",
    "\n",
    "This makes the value of each sensor point and source location in each frequency band the percentage of the PSD accounted for by that band."
   ]
  },
  {
   "cell_type": "code",
   "execution_count": 15,
   "metadata": {
    "scrolled": false,
    "slideshow": {
     "slide_type": "fragment"
    }
   },
   "outputs": [
    {
     "name": "stdout",
     "output_type": "stream",
     "text": [
      "Converting forward solution to surface orientation\n",
      "    Average patch normals will be employed in the rotation to the local surface coordinates....\n",
      "    Converting to surface-based source orientations...\n",
      "    [done]\n",
      "info[\"bads\"] and noise_cov[\"bads\"] do not match, excluding bad channels from both\n",
      "Computing inverse operator with 304 channels.\n",
      "    304 out of 306 channels remain after picking\n",
      "Selected 304 channels\n",
      "Creating the depth weighting matrix...\n",
      "    202 planar channels\n",
      "    limit = 7839/8196 = 10.032537\n",
      "    scale = 3.34919e-08 exp = 0.8\n",
      "Applying loose dipole orientations. Loose value of 0.2.\n",
      "Whitening the forward solution.\n",
      "    Created an SSP operator (subspace dimension = 17)\n",
      "Computing data rank from covariance with rank=None\n",
      "    Using tolerance 7.1e-13 (2.2e-16 eps * 304 dim * 10  max singular value)\n",
      "    Estimated rank (mag + grad): 287\n",
      "    MEG: rank 287 computed from 304 data channels with 17 projectors\n",
      "    Setting small MEG eigenvalues to zero (without PCA)\n",
      "Creating the source covariance matrix\n",
      "Adjusting source covariance matrix.\n",
      "Computing SVD of whitened and weighted lead field matrix.\n",
      "    largest singular value = 6.41431\n",
      "    scaling factor to adjust the trace = 1.3512e+20\n",
      "<InverseOperator | MEG channels: 304 | EEG channels: 0 | Source space: surface with 8196 sources | Source orientation: Free>\n"
     ]
    }
   ],
   "source": [
    "snr = 3.\n",
    "lambda2 = 1. / snr ** 2\n",
    "noise_cov = mne.compute_raw_covariance(raw_erm)\n",
    "inv = mne.minimum_norm.make_inverse_operator(\n",
    "    raw.info, forward=fwd, noise_cov=noise_cov, verbose=True)\n",
    "print(inv)"
   ]
  },
  {
   "cell_type": "code",
   "execution_count": 16,
   "metadata": {
    "scrolled": false,
    "slideshow": {
     "slide_type": "fragment"
    }
   },
   "outputs": [
    {
     "name": "stdout",
     "output_type": "stream",
     "text": [
      "31 matching events found\n",
      "Applying baseline correction (mode: mean)\n",
      "Not setting metadata\n",
      "Created an SSP operator (subspace dimension = 17)\n",
      "17 projection items activated\n",
      "Considering frequencies 0 ... 200 Hz\n",
      "Preparing the inverse operator for use...\n",
      "    Scaled noise and source covariance from nave = 1 to nave = 1\n",
      "    Created the regularized inverter\n",
      "    Created an SSP operator (subspace dimension = 17)\n",
      "    Created the whitener using a noise covariance matrix with rank 287 (17 small eigenvalues omitted)\n",
      "    Computing noise-normalization factors (dSPM)...\n",
      "[done]\n",
      "Picked 304 channels from the data\n",
      "Computing inverse...\n",
      "    Eigenleads need to be weighted ...\n",
      "Reducing data rank 304 -> 287\n",
      "Using hann windowing on at most 31 epochs\n",
      "[............................................................] 100.00%  |   \n"
     ]
    }
   ],
   "source": [
    "stc_psd = mne.minimum_norm.compute_source_psd(\n",
    "    raw, inv, lambda2=lambda2, n_fft=n_fft, verbose=True)"
   ]
  },
  {
   "cell_type": "code",
   "execution_count": 17,
   "metadata": {
    "scrolled": false,
    "slideshow": {
     "slide_type": "fragment"
    }
   },
   "outputs": [
    {
     "name": "stdout",
     "output_type": "stream",
     "text": [
      "(8196, 1)\n"
     ]
    }
   ],
   "source": [
    "stc_norm = stc_psd.sum()  # sum across freqs\n",
    "print(stc_norm.data.shape)\n",
    "freq_bands = dict(alpha=(8, 12), beta=(15, 29))\n",
    "stcs = dict()\n",
    "# Normalize each source point by the total power across freqs\n",
    "for band, limits in freq_bands.items():\n",
    "    stcs[band] = 100 * stc_psd.copy().crop(*limits).sum() / stc_norm.data"
   ]
  },
  {
   "cell_type": "code",
   "execution_count": 18,
   "metadata": {
    "scrolled": false,
    "slideshow": {
     "slide_type": "slide"
    }
   },
   "outputs": [],
   "source": [
    "def plot_band(band):\n",
    "    title = \"%s\\n(%d-%d Hz)\" % ((band,) + freq_bands[band])\n",
    "    brain = stcs[band].plot(\n",
    "        subject=subject, subjects_dir=subjects_dir, views='cau', hemi='both',\n",
    "        time_label=title, title=title, colormap='inferno',\n",
    "        clim=dict(kind='percent', lims=(70, 85, 99)))\n",
    "    brain.show_view(dict(azimuth=0, elevation=0), roll=0)\n",
    "    return brain\n",
    "\n",
    "\n",
    "brain_theta = plot_band('alpha')"
   ]
  },
  {
   "cell_type": "code",
   "execution_count": 19,
   "metadata": {
    "scrolled": false,
    "slideshow": {
     "slide_type": "fragment"
    }
   },
   "outputs": [],
   "source": [
    "brain_beta = plot_band('beta')"
   ]
  },
  {
   "cell_type": "markdown",
   "metadata": {
    "scrolled": true,
    "slideshow": {
     "slide_type": "slide"
    }
   },
   "source": [
    "## Envelope correlation\n",
    "\n",
    "Compute envelope correlations of orthogonalized activity in source space using resting state CTF data.\n",
    "\n",
    "1. Hipp JF, Hawellek DJ, Corbetta M, Siegel M, Engel AK (2012)\n",
    "   Large-scale cortical correlation structure of spontaneous\n",
    "   oscillatory activity. Nature Neuroscience 15:884–890\n",
    "\n",
    "2. Khan S et al. (2018). Maturation trajectories of cortical\n",
    "   resting-state networks depend on the mediating frequency band.\n",
    "   Neuroimage 174:57–68"
   ]
  },
  {
   "cell_type": "code",
   "execution_count": 20,
   "metadata": {
    "scrolled": true,
    "slideshow": {
     "slide_type": "slide"
    }
   },
   "outputs": [],
   "source": [
    "import os.path as op\n",
    "import mne\n",
    "data_path = mne.datasets.brainstorm.bst_resting.data_path(verbose=True)\n",
    "subjects_dir = op.join(data_path, 'subjects')\n",
    "subject = 'bst_resting'\n",
    "trans = op.join(data_path, 'MEG', 'bst_resting', 'bst_resting-trans.fif')\n",
    "src = op.join(subjects_dir, subject, 'bem', subject + '-oct-6-src.fif')\n",
    "bem = op.join(subjects_dir, subject, 'bem', subject + '-5120-bem-sol.fif')\n",
    "raw_fname = op.join(data_path, 'MEG', 'bst_resting',\n",
    "                    'subj002_spontaneous_20111102_01_AUX.ds')"
   ]
  },
  {
   "cell_type": "code",
   "execution_count": 21,
   "metadata": {
    "scrolled": true,
    "slideshow": {
     "slide_type": "slide"
    }
   },
   "outputs": [
    {
     "name": "stdout",
     "output_type": "stream",
     "text": [
      "<RawCTF  |  subj002_spontaneous_20111102_01_AUX.meg4, n_channels x n_times : 301 x 288001 (120.0 sec), ~662.3 MB, data loaded>\n",
      "<RawCTF  |  subj002_spontaneous_20111102_01_AUX.meg4, n_channels x n_times : 298 x 9600 (120.0 sec), ~22.7 MB, data loaded>\n"
     ]
    }
   ],
   "source": [
    "# Load data, crop, and downsample for speed\n",
    "raw = mne.io.read_raw_ctf(raw_fname, verbose='error').crop(0, 120).load_data()\n",
    "print(raw)\n",
    "raw.pick_types(meg=True, eeg=False).resample(80)\n",
    "print(raw)"
   ]
  },
  {
   "cell_type": "code",
   "execution_count": 22,
   "metadata": {
    "scrolled": true,
    "slideshow": {
     "slide_type": "fragment"
    }
   },
   "outputs": [],
   "source": [
    "# Do some preprocessing\n",
    "from mne.preprocessing import compute_proj_ecg, compute_proj_eog\n",
    "raw.apply_gradient_compensation(3)\n",
    "projs_ecg, _ = compute_proj_ecg(raw, n_grad=1, n_mag=2)\n",
    "projs_eog, _ = compute_proj_eog(raw, n_grad=1, n_mag=2, ch_name='MLT31-4407')\n",
    "raw.add_proj(projs_ecg)\n",
    "raw.add_proj(projs_eog)\n",
    "raw.plot()\n",
    "plt.show()"
   ]
  },
  {
   "cell_type": "code",
   "execution_count": 23,
   "metadata": {
    "scrolled": false,
    "slideshow": {
     "slide_type": "subslide"
    }
   },
   "outputs": [
    {
     "name": "stdout",
     "output_type": "stream",
     "text": [
      "<Covariance  |  size : 272 x 272, n_samples : 9584, data : [[ 3.09347942e-26  3.05272666e-26  2.84488098e-26 ... -9.02647780e-27\n",
      "  -7.86630092e-27 -6.95465009e-27]\n",
      " [ 3.05272666e-26  3.76904465e-26  3.94508048e-26 ... -1.50856682e-26\n",
      "  -1.25770898e-26 -7.33855887e-27]\n",
      " [ 2.84488098e-26  3.94508048e-26  4.57821276e-26 ... -1.58431145e-26\n",
      "  -1.36825027e-26 -6.65663964e-27]\n",
      " ...\n",
      " [-9.02647780e-27 -1.50856682e-26 -1.58431145e-26 ...  5.69583276e-26\n",
      "   4.02453939e-26  1.54137153e-26]\n",
      " [-7.86630092e-27 -1.25770898e-26 -1.36825027e-26 ...  4.02453939e-26\n",
      "   3.62590596e-26  9.20486900e-27]\n",
      " [-6.95465009e-27 -7.33855887e-27 -6.65663964e-27 ...  1.54137153e-26\n",
      "   9.20486900e-27  2.42454539e-26]]>\n"
     ]
    }
   ],
   "source": [
    "# compute covariance before band-pass of interest,\n",
    "# or (probably better) use empty-room covariance\n",
    "cov = mne.compute_raw_covariance(raw)\n",
    "print(cov)"
   ]
  },
  {
   "cell_type": "code",
   "execution_count": 24,
   "metadata": {
    "scrolled": true,
    "slideshow": {
     "slide_type": "subslide"
    }
   },
   "outputs": [
    {
     "name": "stdout",
     "output_type": "stream",
     "text": [
      "<Epochs  |   10 events (all good), 0 - 10 sec, baseline off, ~19.2 MB, data loaded,\n",
      " '1': 10>\n"
     ]
    }
   ],
   "source": [
    "raw.filter(14, 30)\n",
    "events = mne.make_fixed_length_events(raw, duration=10.)\n",
    "epochs = mne.Epochs(raw, events=events, tmin=0, tmax=10.,\n",
    "                    baseline=None, reject=dict(mag=8e-13),\n",
    "                    preload=True)\n",
    "print(epochs)"
   ]
  },
  {
   "cell_type": "code",
   "execution_count": 25,
   "metadata": {
    "slideshow": {
     "slide_type": "fragment"
    }
   },
   "outputs": [
    {
     "name": "stdout",
     "output_type": "stream",
     "text": [
      "Source space          : /Users/larsoner/mne_data/MNE-brainstorm-data/bst_resting/subjects/bst_resting/bem/bst_resting-oct-6-src.fif\n",
      "MRI -> head transform : /Users/larsoner/mne_data/MNE-brainstorm-data/bst_resting/MEG/bst_resting/bst_resting-trans.fif\n",
      "Measurement data      : instance of Info\n",
      "Conductor model   : /Users/larsoner/mne_data/MNE-brainstorm-data/bst_resting/subjects/bst_resting/bem/bst_resting-5120-bem-sol.fif\n",
      "Accurate field computations\n",
      "Do computations in head coordinates\n",
      "Free source orientations\n",
      "\n",
      "Reading /Users/larsoner/mne_data/MNE-brainstorm-data/bst_resting/subjects/bst_resting/bem/bst_resting-oct-6-src.fif...\n",
      "Read 2 source spaces a total of 8196 active source locations\n",
      "\n",
      "Coordinate transformation: MRI (surface RAS) -> head\n",
      "     0.999797 -0.005775 -0.019288       2.71 mm\n",
      "     0.011390  0.952195  0.305279      16.66 mm\n",
      "     0.016602 -0.305437  0.952068      28.47 mm\n",
      "     0.000000  0.000000  0.000000       1.00\n",
      "\n",
      "Read 272 MEG channels from info\n",
      "Read  26 MEG compensation channels from info\n",
      "84 coil definitions read\n",
      "Coordinate transformation: MEG device -> head\n",
      "     0.998490 -0.050225 -0.022235       1.90 mm\n",
      "     0.052235  0.993447  0.101656      13.13 mm\n",
      "     0.016984 -0.102664  0.994571      66.69 mm\n",
      "     0.000000  0.000000  0.000000       1.00\n",
      "5 compensation data sets in info\n",
      "MEG coil definitions created in head coordinates.\n",
      "Removing 5 compensators from info because not all compensation channels were picked.\n",
      "Source spaces are now in head coordinates.\n",
      "\n",
      "Setting up the BEM model using /Users/larsoner/mne_data/MNE-brainstorm-data/bst_resting/subjects/bst_resting/bem/bst_resting-5120-bem-sol.fif...\n",
      "\n",
      "Loading surfaces...\n",
      "Homogeneous model surface loaded.\n",
      "\n",
      "Loading the solution matrix...\n",
      "\n",
      "Loaded linear_collocation BEM solution from /Users/larsoner/mne_data/MNE-brainstorm-data/bst_resting/subjects/bst_resting/bem/bst_resting-5120-bem-sol.fif\n",
      "Employing the head->MRI coordinate transform with the BEM model.\n",
      "BEM model bst_resting-5120-bem-sol.fif is now set up\n",
      "\n",
      "Source spaces are in head coordinates.\n",
      "Checking that the sources are inside the bounding surface (will take a few...)\n",
      "Thank you for waiting.\n",
      "\n",
      "Setting up compensation data...\n",
      "    272 out of 272 channels have the compensation set.\n",
      "    Desired compensation data (3) found.\n",
      "    All compensation channels found.\n",
      "    Preselector created.\n",
      "    Compensation data matrix created.\n",
      "    Postselector created.\n",
      "\n",
      "Composing the field computation matrix...\n",
      "Composing the field computation matrix (compensation coils)...\n",
      "Computing MEG at 8196 source locations (free orientations)...\n",
      "\n",
      "Finished.\n"
     ]
    }
   ],
   "source": [
    "# Create forward\n",
    "fwd = mne.make_forward_solution(epochs.info, trans, src, bem, verbose=True)"
   ]
  },
  {
   "cell_type": "code",
   "execution_count": 26,
   "metadata": {
    "scrolled": true,
    "slideshow": {
     "slide_type": "fragment"
    }
   },
   "outputs": [
    {
     "name": "stdout",
     "output_type": "stream",
     "text": [
      "Converting forward solution to surface orientation\n",
      "    Average patch normals will be employed in the rotation to the local surface coordinates....\n",
      "    Converting to surface-based source orientations...\n",
      "    [done]\n",
      "Computing inverse operator with 272 channels.\n",
      "    272 out of 272 channels remain after picking\n",
      "Removing 5 compensators from info because not all compensation channels were picked.\n",
      "Selected 272 channels\n",
      "Creating the depth weighting matrix...\n",
      "    272 magnetometer or axial gradiometer channels\n",
      "    limit = 8074/8196 = 10.006553\n",
      "    scale = 5.92189e-11 exp = 0.8\n",
      "Applying loose dipole orientations. Loose value of 0.2.\n",
      "Whitening the forward solution.\n",
      "Removing 5 compensators from info because not all compensation channels were picked.\n",
      "    Created an SSP operator (subspace dimension = 4)\n",
      "Computing data rank from covariance with rank=None\n",
      "    Using tolerance 7.5e-14 (2.2e-16 eps * 272 dim * 1.2  max singular value)\n",
      "    Estimated rank (mag): 268\n",
      "    MAG: rank 268 computed from 272 data channels with 4 projectors\n",
      "    Setting small MAG eigenvalues to zero (without PCA)\n",
      "Creating the source covariance matrix\n",
      "Adjusting source covariance matrix.\n",
      "Computing SVD of whitened and weighted lead field matrix.\n",
      "    largest singular value = 3.40353\n",
      "    scaling factor to adjust the trace = 1.11256e+19\n"
     ]
    }
   ],
   "source": [
    "# Create inverse\n",
    "inv = mne.minimum_norm.make_inverse_operator(epochs.info, fwd, cov, verbose=True)"
   ]
  },
  {
   "cell_type": "code",
   "execution_count": 27,
   "metadata": {
    "scrolled": true,
    "slideshow": {
     "slide_type": "slide"
    }
   },
   "outputs": [
    {
     "name": "stdout",
     "output_type": "stream",
     "text": [
      "<generator object _gen_extract_label_time_course at 0x1c6b96bdb0>\n"
     ]
    }
   ],
   "source": [
    "# Take the Hilbert transform of epochs\n",
    "epochs.apply_hilbert()\n",
    "\n",
    "# Compute label (complex-valued) time series\n",
    "labels = mne.read_labels_from_annot(subject, 'aparc_sub',\n",
    "                                    subjects_dir=subjects_dir)\n",
    "stcs = mne.minimum_norm.apply_inverse_epochs(\n",
    "    epochs, inv, lambda2=1. / 9., pick_ori='normal',\n",
    "    return_generator=True)\n",
    "label_ts = mne.extract_label_time_course(\n",
    "    stcs, labels, inv['src'], return_generator=True)\n",
    "print(label_ts)"
   ]
  },
  {
   "cell_type": "code",
   "execution_count": 28,
   "metadata": {
    "scrolled": false,
    "slideshow": {
     "slide_type": "slide"
    }
   },
   "outputs": [
    {
     "name": "stdout",
     "output_type": "stream",
     "text": [
      "Preparing the inverse operator for use...\n",
      "    Scaled noise and source covariance from nave = 1 to nave = 1\n",
      "    Created the regularized inverter\n",
      "    Created an SSP operator (subspace dimension = 4)\n",
      "    Created the whitener using a noise covariance matrix with rank 268 (4 small eigenvalues omitted)\n",
      "    Computing noise-normalization factors (dSPM)...\n",
      "[done]\n",
      "Picked 272 channels from the data\n",
      "Computing inverse...\n",
      "    Eigenleads need to be weighted ...\n",
      "Processing epoch : 1 / 10\n",
      "Extracting time courses for 450 labels (mode: mean_flip)\n",
      "Processing epoch : 2 / 10\n",
      "Extracting time courses for 450 labels (mode: mean_flip)\n",
      "Processing epoch : 3 / 10\n",
      "Extracting time courses for 450 labels (mode: mean_flip)\n",
      "Processing epoch : 4 / 10\n",
      "Extracting time courses for 450 labels (mode: mean_flip)\n",
      "Processing epoch : 5 / 10\n",
      "Extracting time courses for 450 labels (mode: mean_flip)\n",
      "Processing epoch : 6 / 10\n",
      "Extracting time courses for 450 labels (mode: mean_flip)\n",
      "Processing epoch : 7 / 10\n",
      "Extracting time courses for 450 labels (mode: mean_flip)\n",
      "Processing epoch : 8 / 10\n",
      "Extracting time courses for 450 labels (mode: mean_flip)\n",
      "Processing epoch : 9 / 10\n",
      "Extracting time courses for 450 labels (mode: mean_flip)\n",
      "Processing epoch : 10 / 10\n",
      "Extracting time courses for 450 labels (mode: mean_flip)\n",
      "[done]\n"
     ]
    }
   ],
   "source": [
    "# Compute envelope correlations!\n",
    "corr = mne.connectivity.envelope_correlation(label_ts, verbose=True)"
   ]
  },
  {
   "cell_type": "code",
   "execution_count": null,
   "metadata": {
    "scrolled": true,
    "slideshow": {
     "slide_type": "fragment"
    }
   },
   "outputs": [],
   "source": [
    "# Plot the 2D correlation matrix\n",
    "print(corr.shape)\n",
    "import matplotlib.pyplot as plt\n",
    "import numpy as np\n",
    "fig, ax = plt.subplots(figsize=(4, 4))\n",
    "ax.imshow(corr, cmap='viridis', clim=np.percentile(corr, [5, 95]))\n",
    "fig.tight_layout()"
   ]
  },
  {
   "cell_type": "code",
   "execution_count": 29,
   "metadata": {
    "slideshow": {
     "slide_type": "slide"
    }
   },
   "outputs": [
    {
     "name": "stdout",
     "output_type": "stream",
     "text": [
      "(450,)\n"
     ]
    }
   ],
   "source": [
    "# Compute the degree\n",
    "threshold_prop = 0.15  # percentage of strongest edges to keep in the graph\n",
    "degree = mne.connectivity.degree(corr, threshold_prop=threshold_prop)\n",
    "print(degree.shape)"
   ]
  },
  {
   "cell_type": "code",
   "execution_count": 30,
   "metadata": {
    "slideshow": {
     "slide_type": "fragment"
    }
   },
   "outputs": [
    {
     "name": "stdout",
     "output_type": "stream",
     "text": [
      "<SourceEstimate  |  312523 vertices, subject : bst_resting, tmin : 0.0 (ms), tmax : 0.0 (ms), tstep : 1000.0 (ms), data shape : (312523, 1)>\n",
      "<SourceEstimate  |  8196 vertices, subject : bst_resting, tmin : 0.0 (ms), tmax : 0.0 (ms), tstep : 1000.0 (ms), data shape : (8196, 1)>\n"
     ]
    }
   ],
   "source": [
    "# Turn our label data to a STC\n",
    "stc = mne.labels_to_stc(labels, degree)\n",
    "print(stc)\n",
    "# Restrict it back to our original source space points\n",
    "stc = stc.in_label(mne.Label(inv['src'][0]['vertno'], hemi='lh') +\n",
    "                   mne.Label(inv['src'][1]['vertno'], hemi='rh'))\n",
    "print(stc)"
   ]
  },
  {
   "cell_type": "code",
   "execution_count": 31,
   "metadata": {
    "scrolled": true,
    "slideshow": {
     "slide_type": "fragment"
    }
   },
   "outputs": [
    {
     "name": "stdout",
     "output_type": "stream",
     "text": [
      "<Brain subject_id=\"bst_resting\", hemi=\"both\", surf=\"inflated\">\n"
     ]
    }
   ],
   "source": [
    "# Plot the result\n",
    "brain = stc.plot(\n",
    "    clim=dict(kind='percent', lims=[75, 85, 95]), colormap='gnuplot',\n",
    "    subjects_dir=subjects_dir, views='dorsal', hemi='both',\n",
    "    smoothing_steps=25, time_label='Beta band')\n",
    "brain"
   ]
  }
 ],
 "metadata": {
  "celltoolbar": "Slideshow",
  "kernelspec": {
   "display_name": "Python 3",
   "language": "python",
   "name": "python3"
  },
  "language_info": {
   "codemirror_mode": {
    "name": "ipython",
    "version": 3
   },
   "file_extension": ".py",
   "mimetype": "text/x-python",
   "name": "python",
   "nbconvert_exporter": "python",
   "pygments_lexer": "ipython3",
   "version": "3.6.8"
  },
  "rise": {
   "scroll": true
  }
 },
 "nbformat": 4,
 "nbformat_minor": 1
}
