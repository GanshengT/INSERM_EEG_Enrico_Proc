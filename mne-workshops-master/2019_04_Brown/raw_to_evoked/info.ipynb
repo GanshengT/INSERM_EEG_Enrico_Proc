{
 "cells": [
  {
   "cell_type": "code",
   "execution_count": 1,
   "metadata": {
    "slideshow": {
     "slide_type": "skip"
    }
   },
   "outputs": [],
   "source": [
    "%matplotlib inline"
   ]
  },
  {
   "cell_type": "markdown",
   "metadata": {
    "slideshow": {
     "slide_type": "slide"
    }
   },
   "source": [
    "\n",
    "\n",
    "The [`Info`](https://martinos.org/mne/stable/generated/mne.Info.html) data structure\n",
    "===========================================\n",
    "\n",
    "The [`Info`](https://martinos.org/mne/stable/generated/mne.Info.html) data object is typically created\n",
    "when data is imported into MNE-Python and contains details such as:\n",
    "\n",
    "- date, subject information, and other recording details\n",
    "- the sampling rate\n",
    "- information about the data channels (name, type, position, etc.)\n",
    "- digitized points\n",
    "- sensor–head coordinate transformation matrices\n",
    "\n",
    "and so forth. See the [`the API reference`](https://martinos.org/mne/stable/generated/mne.Info.html)\n",
    "for a complete list of all data fields. Once created, this object is passed\n",
    "around throughout the data analysis pipeline.\n",
    "\n"
   ]
  },
  {
   "cell_type": "markdown",
   "metadata": {
    "slideshow": {
     "slide_type": "slide"
    }
   },
   "source": [
    "[`mne.Info`](https://martinos.org/mne/stable/generated/mne.Info.html) behaves as a nested Python dictionary:\n",
    "\n"
   ]
  },
  {
   "cell_type": "code",
   "execution_count": 2,
   "metadata": {
    "slideshow": {
     "slide_type": "fragment"
    }
   },
   "outputs": [],
   "source": [
    "import mne\n",
    "import os.path as op"
   ]
  },
  {
   "cell_type": "code",
   "execution_count": 3,
   "metadata": {
    "slideshow": {
     "slide_type": "fragment"
    }
   },
   "outputs": [],
   "source": [
    "# Read the info object from an example recording\n",
    "info = mne.io.read_info(\n",
    "    op.join(mne.datasets.sample.data_path(), 'MEG', 'sample',\n",
    "            'sample_audvis_raw.fif'), verbose=False)"
   ]
  },
  {
   "cell_type": "markdown",
   "metadata": {
    "slideshow": {
     "slide_type": "fragment"
    }
   },
   "source": [
    "List all the fields in the info object\n",
    "\n"
   ]
  },
  {
   "cell_type": "code",
   "execution_count": 4,
   "metadata": {
    "slideshow": {
     "slide_type": "-"
    }
   },
   "outputs": [
    {
     "name": "stdout",
     "output_type": "stream",
     "text": [
      "Keys in info dictionary:\n",
      " dict_keys(['file_id', 'events', 'hpi_results', 'hpi_meas', 'subject_info', 'hpi_subsystem', 'proc_history', 'meas_id', 'experimenter', 'description', 'proj_id', 'proj_name', 'meas_date', 'sfreq', 'highpass', 'lowpass', 'line_freq', 'gantry_angle', 'chs', 'dev_head_t', 'ctf_head_t', 'dev_ctf_t', 'dig', 'bads', 'ch_names', 'nchan', 'projs', 'comps', 'acq_pars', 'acq_stim', 'custom_ref_applied', 'xplotter_layout', 'kit_system_id'])\n"
     ]
    }
   ],
   "source": [
    "print('Keys in info dictionary:\\n', info.keys())"
   ]
  },
  {
   "cell_type": "markdown",
   "metadata": {
    "slideshow": {
     "slide_type": "fragment"
    }
   },
   "source": [
    "List all information about the first data channel\n",
    "\n"
   ]
  },
  {
   "cell_type": "code",
   "execution_count": 5,
   "metadata": {
    "slideshow": {
     "slide_type": "-"
    }
   },
   "outputs": [
    {
     "name": "stdout",
     "output_type": "stream",
     "text": [
      "{'scanno': 1, 'logno': 113, 'kind': 1, 'range': 0.00030517578125, 'cal': 3.1600000394149674e-09, 'coil_type': 3012, 'loc': array([-0.1066    ,  0.0464    , -0.0604    , -0.0127    ,  0.0057    ,\n",
      "       -0.99990302, -0.186801  , -0.98240298, -0.0033    , -0.98232698,\n",
      "        0.18674099,  0.013541  ]), 'unit': 201, 'unit_mul': 0, 'ch_name': 'MEG 0113', 'coord_frame': 1}\n"
     ]
    }
   ],
   "source": [
    "print(info['chs'][0])"
   ]
  },
  {
   "cell_type": "markdown",
   "metadata": {
    "slideshow": {
     "slide_type": "slide"
    }
   },
   "source": [
    "Obtain the sampling rate of the data\n",
    "\n"
   ]
  },
  {
   "cell_type": "code",
   "execution_count": 6,
   "metadata": {
    "slideshow": {
     "slide_type": "fragment"
    }
   },
   "outputs": [
    {
     "name": "stdout",
     "output_type": "stream",
     "text": [
      "600.614990234375 Hz\n"
     ]
    }
   ],
   "source": [
    "print(info['sfreq'], 'Hz')"
   ]
  },
  {
   "cell_type": "markdown",
   "metadata": {
    "slideshow": {
     "slide_type": "slide"
    }
   },
   "source": [
    "\n",
    "Obtaining subsets of channels\n",
    "-----------------------------\n",
    "\n",
    "There are a number of convenience functions to obtain channel indices, given\n",
    "an [`mne.Info`](https://martinos.org/mne/stable/generated/mne.Info.html#mne.Info) object.\n",
    "\n"
   ]
  },
  {
   "cell_type": "markdown",
   "metadata": {
    "slideshow": {
     "slide_type": "fragment"
    }
   },
   "source": [
    "Get channel indices by name\n",
    "\n"
   ]
  },
  {
   "cell_type": "code",
   "execution_count": 7,
   "metadata": {
    "slideshow": {
     "slide_type": "-"
    }
   },
   "outputs": [],
   "source": [
    "channel_indices = mne.pick_channels(info['ch_names'], ['MEG 0312', 'EEG 005'])"
   ]
  },
  {
   "cell_type": "markdown",
   "metadata": {
    "slideshow": {
     "slide_type": "fragment"
    }
   },
   "source": [
    "Get channel indices by regular expression\n",
    "\n"
   ]
  },
  {
   "cell_type": "code",
   "execution_count": 8,
   "metadata": {
    "slideshow": {
     "slide_type": "-"
    }
   },
   "outputs": [],
   "source": [
    "channel_indices = mne.pick_channels_regexp(info['ch_names'], 'MEG *')"
   ]
  },
  {
   "cell_type": "markdown",
   "metadata": {
    "slideshow": {
     "slide_type": "slide"
    }
   },
   "source": [
    "Channel types\n",
    "-------------\n",
    "\n",
    "MNE supports different channel types:\n",
    "\n",
    "- eeg : For EEG channels with data stored in Volts (V)\n",
    "- meg (mag) : For MEG magnetometers channels stored in Tesla (T)\n",
    "- meg (grad) : For MEG gradiometers channels stored in Tesla/Meter (T/m)\n",
    "- ecg : For ECG channels stored in Volts (V)\n",
    "- seeg : For Stereotactic EEG channels in Volts (V).\n",
    "- ecog : For Electrocorticography (ECoG) channels in Volts (V).\n",
    "- fnirs (HBO) : Functional near-infrared spectroscopy oxyhemoglobin data.\n",
    "- fnirs (HBR) : Functional near-infrared spectroscopy deoxyhemoglobin data.\n",
    "- emg : For EMG channels stored in Volts (V)\n",
    "- bio : For biological channels (AU).\n",
    "- stim : For the stimulus (a.k.a. trigger) channels (AU)\n",
    "- resp : For the response-trigger channel (AU)\n",
    "- chpi : For HPI coil channels (T).\n",
    "- exci : Flux excitation channel used to be a stimulus channel.\n",
    "- ias : For Internal Active Shielding data (maybe on Triux only).\n",
    "- syst : System status channel information (on Triux systems only)."
   ]
  },
  {
   "cell_type": "markdown",
   "metadata": {
    "slideshow": {
     "slide_type": "subslide"
    }
   },
   "source": [
    "Get channel indices by type"
   ]
  },
  {
   "cell_type": "code",
   "execution_count": 9,
   "metadata": {
    "slideshow": {
     "slide_type": "-"
    }
   },
   "outputs": [],
   "source": [
    "channel_indices = mne.pick_types(info, meg=True)  # MEG only\n",
    "channel_indices = mne.pick_types(info, meg=False, eeg=True)  # EEG only"
   ]
  },
  {
   "cell_type": "markdown",
   "metadata": {
    "slideshow": {
     "slide_type": "fragment"
    }
   },
   "source": [
    "MEG gradiometers and EEG channels\n",
    "\n"
   ]
  },
  {
   "cell_type": "code",
   "execution_count": 10,
   "metadata": {
    "slideshow": {
     "slide_type": "-"
    }
   },
   "outputs": [],
   "source": [
    "channel_indices = mne.pick_types(info, meg='grad', eeg=True)"
   ]
  },
  {
   "cell_type": "markdown",
   "metadata": {
    "slideshow": {
     "slide_type": "fragment"
    }
   },
   "source": [
    "Get a dictionary of channel indices, grouped by channel type\n",
    "\n"
   ]
  },
  {
   "cell_type": "code",
   "execution_count": 11,
   "metadata": {
    "slideshow": {
     "slide_type": "-"
    }
   },
   "outputs": [
    {
     "name": "stdout",
     "output_type": "stream",
     "text": [
      "The first three magnetometers: [2, 5, 8]\n"
     ]
    }
   ],
   "source": [
    "channel_indices_by_type = mne.io.pick.channel_indices_by_type(info)\n",
    "print('The first three magnetometers:', channel_indices_by_type['mag'][:3])"
   ]
  },
  {
   "cell_type": "markdown",
   "metadata": {
    "slideshow": {
     "slide_type": "slide"
    }
   },
   "source": [
    "Obtaining information about channels\n",
    "------------------------------------\n",
    "\n"
   ]
  },
  {
   "cell_type": "markdown",
   "metadata": {
    "slideshow": {
     "slide_type": "fragment"
    }
   },
   "source": [
    "Channel type of a specific channel"
   ]
  },
  {
   "cell_type": "code",
   "execution_count": 12,
   "metadata": {
    "slideshow": {
     "slide_type": "-"
    }
   },
   "outputs": [
    {
     "name": "stdout",
     "output_type": "stream",
     "text": [
      "Channel #75 is of type: grad\n"
     ]
    }
   ],
   "source": [
    "channel_type = mne.io.pick.channel_type(info, 75)\n",
    "print('Channel #75 is of type:', channel_type)"
   ]
  },
  {
   "cell_type": "markdown",
   "metadata": {
    "slideshow": {
     "slide_type": "fragment"
    }
   },
   "source": [
    "Channel types of a collection of channels\n",
    "\n"
   ]
  },
  {
   "cell_type": "code",
   "execution_count": 13,
   "metadata": {
    "slideshow": {
     "slide_type": "-"
    }
   },
   "outputs": [
    {
     "name": "stdout",
     "output_type": "stream",
     "text": [
      "First 10 MEG channels are of type:\n",
      " ['grad', 'grad', 'mag', 'grad', 'grad', 'mag', 'grad', 'grad', 'mag', 'grad']\n"
     ]
    }
   ],
   "source": [
    "meg_channels = mne.pick_types(info, meg=True)[:10]\n",
    "channel_types = [mne.io.pick.channel_type(info, ch) for ch in meg_channels]\n",
    "print('First 10 MEG channels are of type:\\n', channel_types)"
   ]
  },
  {
   "cell_type": "markdown",
   "metadata": {
    "slideshow": {
     "slide_type": "slide"
    }
   },
   "source": [
    "Dropping channels from an info structure\n",
    "----------------------------------------\n",
    "\n",
    "It is possible to limit the info structure to only include a subset of\n",
    "channels with the [`mne.pick_info`](https://martinos.org/mne/stable/generated/mne.pick_info.html#mne.pick_info) function:\n",
    "\n"
   ]
  },
  {
   "cell_type": "code",
   "execution_count": 14,
   "metadata": {
    "slideshow": {
     "slide_type": "fragment"
    }
   },
   "outputs": [
    {
     "name": "stdout",
     "output_type": "stream",
     "text": [
      "<Info | 24 non-empty fields\n",
      "    acq_pars : str | 13886 items\n",
      "    bads : list | 0 items\n",
      "    ch_names : list | EEG 001, EEG 002, EEG 003, EEG 004, EEG 005, EEG 006, ...\n",
      "    chs : list | 59 items (EEG: 59)\n",
      "    comps : list | 0 items\n",
      "    custom_ref_applied : bool | False\n",
      "    description : str | 49 items\n",
      "    dev_head_t : Transform | 3 items\n",
      "    dig : list | 146 items\n",
      "    events : list | 1 items\n",
      "    experimenter : str | 3 items\n",
      "    file_id : dict | 4 items\n",
      "    highpass : float | 0.10000000149011612 Hz\n",
      "    hpi_meas : list | 1 items\n",
      "    hpi_results : list | 1 items\n",
      "    lowpass : float | 172.17630004882812 Hz\n",
      "    meas_date : tuple | 2002-12-03 19:01:10 GMT\n",
      "    meas_id : dict | 4 items\n",
      "    nchan : int | 59\n",
      "    proc_history : list | 0 items\n",
      "    proj_id : ndarray | 1 items\n",
      "    proj_name : str | 4 items\n",
      "    projs : list | PCA-v1: off, PCA-v2: off, PCA-v3: off\n",
      "    sfreq : float | 600.614990234375 Hz\n",
      "    acq_stim : NoneType\n",
      "    ctf_head_t : NoneType\n",
      "    dev_ctf_t : NoneType\n",
      "    gantry_angle : NoneType\n",
      "    hpi_subsystem : NoneType\n",
      "    kit_system_id : NoneType\n",
      "    line_freq : NoneType\n",
      "    subject_info : NoneType\n",
      "    xplotter_layout : NoneType\n",
      ">\n"
     ]
    }
   ],
   "source": [
    "# Only keep EEG channels\n",
    "eeg_indices = mne.pick_types(info, meg=False, eeg=True)\n",
    "reduced_info = mne.pick_info(info, eeg_indices)\n",
    "\n",
    "print(reduced_info)"
   ]
  },
  {
   "cell_type": "markdown",
   "metadata": {
    "slideshow": {
     "slide_type": "slide"
    }
   },
   "source": [
    "Exercises\n",
    "--------------\n",
    "\n",
    "1) Can you plot the EEG sensors in the info?"
   ]
  },
  {
   "cell_type": "code",
   "execution_count": 15,
   "metadata": {
    "slideshow": {
     "slide_type": "fragment"
    }
   },
   "outputs": [
    {
     "data": {
      "image/png": "[encoded data removed]",
      "text/plain": [
       "<Figure size 432x288 with 1 Axes>"
      ]
     },
     "metadata": {
      "needs_background": "light"
     },
     "output_type": "display_data"
    }
   ],
   "source": [
    "import matplotlib.pyplot as plt\n",
    "from mpl_toolkits.mplot3d import Axes3D\n",
    "\n",
    "fig = plt.figure()\n",
    "ax = fig.add_subplot(111, projection='3d')\n",
    "\n",
    "# your code here to compute x, y, z\n",
    "\n",
    "# ax.scatter(x, y, z)"
   ]
  },
  {
   "cell_type": "markdown",
   "metadata": {
    "slideshow": {
     "slide_type": "slide"
    }
   },
   "source": [
    "In fact, you can use a convenient method `raw.plot_sensors` to just do this."
   ]
  },
  {
   "cell_type": "code",
   "execution_count": 16,
   "metadata": {
    "slideshow": {
     "slide_type": "-"
    }
   },
   "outputs": [
    {
     "name": "stdout",
     "output_type": "stream",
     "text": [
      "Opening raw data file /local_mount/space/meghnn/1/users/mjas/mne_data/MNE-sample-data/MEG/sample/sample_audvis_raw.fif...\n",
      "    Read a total of 3 projection items:\n",
      "        PCA-v1 (1 x 102)  idle\n",
      "        PCA-v2 (1 x 102)  idle\n",
      "        PCA-v3 (1 x 102)  idle\n",
      "    Range : 25800 ... 192599 =     42.956 ...   320.670 secs\n",
      "Ready.\n",
      "Current compensation grade : 0\n",
      "Reading 0 ... 166799  =      0.000 ...   277.714 secs...\n"
     ]
    },
    {
     "data": {
      "image/png": "[encoded data removed]",
      "text/plain": [
       "<Figure size 432x432 with 1 Axes>"
      ]
     },
     "metadata": {
      "needs_background": "light"
     },
     "output_type": "display_data"
    }
   ],
   "source": [
    "# % matplotlib notebook\n",
    "data_path = op.join(mne.datasets.sample.data_path(), 'MEG',\n",
    "                    'sample', 'sample_audvis_raw.fif')\n",
    "raw = mne.io.read_raw_fif(data_path, preload=True).pick_types(eeg=True, meg=False)\n",
    "raw.plot_sensors(kind='3d');"
   ]
  }
 ],
 "metadata": {
  "celltoolbar": "Slideshow",
  "kernelspec": {
   "display_name": "Python 3",
   "language": "python",
   "name": "python3"
  },
  "language_info": {
   "codemirror_mode": {
    "name": "ipython",
    "version": 3
   },
   "file_extension": ".py",
   "mimetype": "text/x-python",
   "name": "python",
   "nbconvert_exporter": "python",
   "pygments_lexer": "ipython3",
   "version": "3.6.7"
  },
  "livereveal": {
   "scroll": true
  },
  "rise": {
   "enable_chalkboard": true
  }
 },
 "nbformat": 4,
 "nbformat_minor": 1
}
