{
 "cells": [
  {
   "cell_type": "code",
   "execution_count": null,
   "metadata": {},
   "outputs": [],
   "source": [
    "%matplotlib inline\n",
    "import mne\n",
    "import matplotlib.pyplot as plt\n",
    "\n",
    "fname = \"oddball-epo.fif\"\n",
    "\n",
    "epochs = mne.read_epochs(fname)"
   ]
  },
  {
   "cell_type": "markdown",
   "metadata": {},
   "source": [
    "## Evokeds"
   ]
  },
  {
   "cell_type": "markdown",
   "metadata": {},
   "source": [
    "Finally, if we average an epoched dataset over trials, we can use the `mne.Evoked` object."
   ]
  },
  {
   "cell_type": "code",
   "execution_count": null,
   "metadata": {},
   "outputs": [],
   "source": [
    "target = epochs[\"target\"].average()\n",
    "target"
   ]
  },
  {
   "cell_type": "code",
   "execution_count": null,
   "metadata": {},
   "outputs": [],
   "source": [
    "standard = epochs[\"standard\"].average()"
   ]
  },
  {
   "cell_type": "markdown",
   "metadata": {},
   "source": [
    "To quickly investigate evoked activity, the `Evoked` object has a number of plotting functions available."
   ]
  },
  {
   "cell_type": "code",
   "execution_count": null,
   "metadata": {},
   "outputs": [],
   "source": [
    "target.plot_joint();"
   ]
  },
  {
   "cell_type": "markdown",
   "metadata": {},
   "source": [
    "For condition contrasts, you can use `mne.combine.evoked`:"
   ]
  },
  {
   "cell_type": "code",
   "execution_count": null,
   "metadata": {},
   "outputs": [],
   "source": [
    "diff = mne.combine_evoked((target, -standard), weights='equal')\n",
    "diff.plot_joint(times=.35);"
   ]
  },
  {
   "cell_type": "markdown",
   "metadata": {},
   "source": [
    "Or as an image:"
   ]
  },
  {
   "cell_type": "code",
   "execution_count": null,
   "metadata": {
    "scrolled": true
   },
   "outputs": [],
   "source": [
    "diff.plot_image();"
   ]
  },
  {
   "cell_type": "markdown",
   "metadata": {
    "hideCode": true,
    "hidePrompt": false
   },
   "source": [
    "Because we have a 10/20 electrode layout, we can easily use a somewhat nicer layout:"
   ]
  },
  {
   "cell_type": "code",
   "execution_count": null,
   "metadata": {},
   "outputs": [],
   "source": [
    "rois = mne.channels.make_1020_channel_selections(diff.info, midline=\"z12\")\n",
    "diff.plot_image(group_by=rois, show=False, show_names=\"all\");"
   ]
  },
  {
   "cell_type": "markdown",
   "metadata": {},
   "source": [
    "To contrast multiple conditions, `mne.viz.plot_compare_evokeds` is available:"
   ]
  },
  {
   "cell_type": "code",
   "execution_count": null,
   "metadata": {},
   "outputs": [],
   "source": [
    "mne.viz.plot_compare_evokeds({\"standard\": standard,\n",
    "                              \"target\": target}, picks=[13]);"
   ]
  },
  {
   "cell_type": "markdown",
   "metadata": {},
   "source": [
    "## Time-Frequency stuff"
   ]
  },
  {
   "cell_type": "markdown",
   "metadata": {},
   "source": [
    "For an overview over the spectral shape of the data, we can use a plotting method of `raw`, `raw.plot_psd`:"
   ]
  },
  {
   "cell_type": "code",
   "execution_count": null,
   "metadata": {},
   "outputs": [],
   "source": [
    "epochs_for_tfr = mne.read_epochs(\"oddball-long-epo.fif\")"
   ]
  },
  {
   "cell_type": "code",
   "execution_count": null,
   "metadata": {},
   "outputs": [],
   "source": [
    "epochs_for_tfr.plot_psd(fmin=2, fmax=20);"
   ]
  },
  {
   "cell_type": "markdown",
   "metadata": {},
   "source": [
    "But what about the time/frequency correlates of the Oddball effect?\n",
    "\n",
    "We will extract power per time and frequency with Morlet wavelets."
   ]
  },
  {
   "cell_type": "code",
   "execution_count": null,
   "metadata": {},
   "outputs": [],
   "source": [
    "from mne.time_frequency import tfr_morlet"
   ]
  },
  {
   "cell_type": "code",
   "execution_count": null,
   "metadata": {},
   "outputs": [],
   "source": [
    "freqs = list(range(3, 30))\n",
    "tfr_target = tfr_morlet(epochs_for_tfr[\"target\"], freqs, 3, return_itc=False)\n",
    "tfr_standard = tfr_morlet(epochs_for_tfr[\"standard\"], freqs, 3, return_itc=False)"
   ]
  },
  {
   "cell_type": "markdown",
   "metadata": {},
   "source": [
    "Time-frequency data (single trial or averaged) is stored in TFR objects. These objects behave in many ways like Evoked objects ..."
   ]
  },
  {
   "cell_type": "code",
   "execution_count": null,
   "metadata": {},
   "outputs": [],
   "source": [
    "tfr_contrast = mne.combine_evoked((tfr_standard, tfr_target), (-.5, .5))\n",
    "tfr_contrast.apply_baseline((None, 0))"
   ]
  },
  {
   "cell_type": "markdown",
   "metadata": {},
   "source": [
    "Plotting time-frequencyy activity (event-related spectral perturbations): observe the alpha-band ERD and the time-frequency correlates of the P3 effect."
   ]
  },
  {
   "cell_type": "code",
   "execution_count": null,
   "metadata": {},
   "outputs": [],
   "source": [
    "tfr_contrast.plot_joint();"
   ]
  },
  {
   "cell_type": "code",
   "execution_count": null,
   "metadata": {},
   "outputs": [],
   "source": [
    "tfr_contrast.plot(picks=[27]);"
   ]
  },
  {
   "cell_type": "code",
   "execution_count": null,
   "metadata": {},
   "outputs": [],
   "source": [
    "del epochs_for_tfr"
   ]
  },
  {
   "cell_type": "markdown",
   "metadata": {},
   "source": [
    "## Statistics"
   ]
  },
  {
   "cell_type": "markdown",
   "metadata": {},
   "source": [
    "Remember what the data look like:"
   ]
  },
  {
   "cell_type": "code",
   "execution_count": null,
   "metadata": {},
   "outputs": [],
   "source": [
    "diff.plot_image(group_by=rois, show=False, show_names=\"all\");"
   ]
  },
  {
   "cell_type": "markdown",
   "metadata": {},
   "source": [
    "Can we statistically threshold this image to see which effects are reliable?"
   ]
  },
  {
   "cell_type": "markdown",
   "metadata": {},
   "source": [
    "### Cluster-based permutation stats"
   ]
  },
  {
   "cell_type": "markdown",
   "metadata": {},
   "source": [
    "Exploratory analysis with nonparametric control of the error rate is commonly done with\n",
    "cluster-based permutation tests (i.e., Maris 2012). To cluster across space, we first need a\n",
    "channel adjacency matrix."
   ]
  },
  {
   "cell_type": "code",
   "execution_count": null,
   "metadata": {},
   "outputs": [],
   "source": [
    "from mne.channels import find_ch_connectivity\n",
    "connectivity, ch_names = find_ch_connectivity(epochs.info, ch_type='eeg')\n",
    "plt.imshow(connectivity.toarray(), cmap=\"Greys\")"
   ]
  },
  {
   "cell_type": "markdown",
   "metadata": {},
   "source": [
    "Now we need the data in the right shape. Sadly, because the space dimension needs\n",
    "to be last, we need to manually swap the time and space axes."
   ]
  },
  {
   "cell_type": "code",
   "execution_count": null,
   "metadata": {},
   "outputs": [],
   "source": [
    "epochs.pick_types(eeg=True)\n",
    "target_epochs, standard_epochs = epochs[\"target\"].get_data(), epochs[\"standard\"].get_data()\n",
    "target_epochs.shape, standard_epochs.shape"
   ]
  },
  {
   "cell_type": "code",
   "execution_count": null,
   "metadata": {},
   "outputs": [],
   "source": [
    "target_epochs = target_epochs.swapaxes(1, 2)\n",
    "standard_epochs = standard_epochs.swapaxes(1, 2)\n",
    "target_epochs.shape, standard_epochs.shape"
   ]
  },
  {
   "cell_type": "markdown",
   "metadata": {},
   "source": [
    "MNE has various cluster-based permutation test options. Here, we test for single-trial\n",
    "differences between conditions with `mne.stats.spatio_temporal_cluster_test`.\n",
    "\n",
    "We use threshold-free cluster enhancement to reduce the number of parameters.\n",
    "\n",
    "Warning: the next cell takes a lot of time and computational power."
   ]
  },
  {
   "cell_type": "code",
   "execution_count": null,
   "metadata": {},
   "outputs": [],
   "source": []
  },
  {
   "cell_type": "code",
   "execution_count": null,
   "metadata": {},
   "outputs": [],
   "source": [
    "from mne.stats import spatio_temporal_cluster_test\n",
    "\n",
    "mne.set_log_level(True)\n",
    "tfce = dict(start=.2, step=.5)  # decrease both for real analyses\n",
    "cluster_stats = spatio_temporal_cluster_test([target_epochs, standard_epochs],\n",
    "                                             threshold=tfce,\n",
    "                                             n_permutations=200,  # way too low, increase for real analyses\n",
    "                                             n_jobs=1,  # increase for decent CPUs\n",
    "                                             connectivity=connectivity)\n",
    "T_obs, clusters, p_values, _ = cluster_stats"
   ]
  },
  {
   "cell_type": "markdown",
   "metadata": {},
   "source": [
    "Now we can visualise the *t* values over time and space ..."
   ]
  },
  {
   "cell_type": "code",
   "execution_count": null,
   "metadata": {},
   "outputs": [],
   "source": [
    "extent = (*epochs.times[[0, -1]], 0, len(epochs.ch_names))\n",
    "im = plt.imshow(T_obs.T, aspect=\"auto\", cmap=\"RdBu_r\",\n",
    "                vmin=-100, vmax=100, extent=extent\n",
    "          )\n",
    "plt.colorbar(im)"
   ]
  },
  {
   "cell_type": "markdown",
   "metadata": {},
   "source": [
    "... and the p-values."
   ]
  },
  {
   "cell_type": "code",
   "execution_count": null,
   "metadata": {},
   "outputs": [],
   "source": [
    "plt.hist(p_values)\n",
    "\n",
    "alpha = .01\n",
    "print(sum(p_values < alpha))"
   ]
  },
  {
   "cell_type": "markdown",
   "metadata": {},
   "source": [
    "We can use the resulting mask to mask the image:"
   ]
  },
  {
   "cell_type": "code",
   "execution_count": null,
   "metadata": {},
   "outputs": [],
   "source": [
    "pvals = p_values.reshape(T_obs.shape).T < alpha\n",
    "\n",
    "diff.plot_image(group_by=rois, show=False, show_names=\"all\", mask=pvals);"
   ]
  },
  {
   "cell_type": "markdown",
   "metadata": {},
   "source": [
    "### Parametric stats\n",
    "Sometimes, e.g. because we wish to test a specific hypothesis, cluster-based permutation tests are too much.\n",
    "We can also simply access the data in array form and test with parametric (or nonparametric) tests."
   ]
  },
  {
   "cell_type": "markdown",
   "metadata": {},
   "source": [
    "For this, we first need to identify the spatial and temporal coordinates of an effect we want to test -\n",
    "for example, the N2 at Cz."
   ]
  },
  {
   "cell_type": "code",
   "execution_count": null,
   "metadata": {},
   "outputs": [],
   "source": [
    "time_mask = (.2 < epochs.times) & (epochs.times < .25)\n",
    "electrode_pz = epochs.ch_names.index(\"Cz\")\n",
    "plt.plot(time_mask)"
   ]
  },
  {
   "cell_type": "markdown",
   "metadata": {},
   "source": [
    "Now we extract the target data. Reminder: the shape of epochs data is (trial, channel, time)"
   ]
  },
  {
   "cell_type": "code",
   "execution_count": null,
   "metadata": {},
   "outputs": [],
   "source": [
    "epochs[\"target\"].get_data().shape"
   ]
  },
  {
   "cell_type": "code",
   "execution_count": null,
   "metadata": {},
   "outputs": [],
   "source": [
    "cond_a = epochs[\"target\"].get_data()[:, electrode_pz, time_mask].mean(-1)\n",
    "cond_b = epochs[\"standard\"].get_data()[:, electrode_pz, time_mask].mean(-1)"
   ]
  },
  {
   "cell_type": "code",
   "execution_count": null,
   "metadata": {},
   "outputs": [],
   "source": [
    "cond_a.shape"
   ]
  },
  {
   "cell_type": "markdown",
   "metadata": {},
   "source": [
    "Now we can simply use ordinary tests on these statistics."
   ]
  },
  {
   "cell_type": "code",
   "execution_count": null,
   "metadata": {},
   "outputs": [],
   "source": [
    "from scipy.stats import ttest_ind, wilcoxon"
   ]
  },
  {
   "cell_type": "code",
   "execution_count": null,
   "metadata": {},
   "outputs": [],
   "source": [
    "ttest_ind(cond_a, cond_b)"
   ]
  },
  {
   "cell_type": "code",
   "execution_count": null,
   "metadata": {},
   "outputs": [],
   "source": [
    "wilcoxon(cond_a, cond_b)"
   ]
  },
  {
   "cell_type": "markdown",
   "metadata": {},
   "source": [
    "It is also straight-forward to convert the data into a (pandas) dataframe."
   ]
  },
  {
   "cell_type": "code",
   "execution_count": null,
   "metadata": {},
   "outputs": [],
   "source": [
    "df = epochs.to_data_frame()\n",
    "df.head(20)"
   ]
  },
  {
   "cell_type": "code",
   "execution_count": null,
   "metadata": {},
   "outputs": [],
   "source": [
    "df_cz = df.query(\"200 < time < 250\")[\"Cz\"].groupby([\"epoch\", \"condition\"]).mean().reset_index()\n",
    "df_cz.head()"
   ]
  },
  {
   "cell_type": "code",
   "execution_count": null,
   "metadata": {},
   "outputs": [],
   "source": [
    "import seaborn as sns\n",
    "sns.factorplot(y=\"Cz\", data=df_cz, x=\"condition\")"
   ]
  },
  {
   "cell_type": "code",
   "execution_count": null,
   "metadata": {},
   "outputs": [],
   "source": []
  }
 ],
 "metadata": {
  "anaconda-cloud": {},
  "kernelspec": {
   "display_name": "Python [conda env:miniconda3]",
   "language": "python",
   "name": "conda-env-miniconda3-py"
  },
  "language_info": {
   "codemirror_mode": {
    "name": "ipython",
    "version": 3
   },
   "file_extension": ".py",
   "mimetype": "text/x-python",
   "name": "python",
   "nbconvert_exporter": "python",
   "pygments_lexer": "ipython3",
   "version": "3.6.5"
  }
 },
 "nbformat": 4,
 "nbformat_minor": 2
}
