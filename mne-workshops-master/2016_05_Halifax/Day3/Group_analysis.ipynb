{
 "cells": [
  {
   "cell_type": "markdown",
   "metadata": {},
   "source": [
    "# Organizing your files for group analysis\n",
    "\n",
    "`\n",
    "Authors: Alex Gramfort <alexandre.gramfort@telecom-paristech.fr>\n",
    "`\n",
    "\n",
    "License: BSD (3-clause)"
   ]
  },
  {
   "cell_type": "markdown",
   "metadata": {},
   "source": [
    "This notebook shows an example of file organization for a group study.\n",
    "\n",
    "MNE uses the FreeSurfer philosophy which is to have a folder per subject.\n",
    "\n",
    "Here is an example:\n",
    "\n",
    "```\n",
    "\n",
    "├── MEG\n",
    "│       └── sub01\n",
    "│             └── sub01_run1_raw.fif\n",
    "│             └── sub01_run2_raw.fif\n",
    "│             └── ...\n",
    "│             └── sub01-epo.fif\n",
    "│             └── sub01-ave.fif\n",
    "│             └── sub01-trans.fif\n",
    "│             └── sub01-...-fwd.fif\n",
    "│             └── sub01-...-src.fif\n",
    "│             └── sub01-...-inv.fif\n",
    "│       └── sub02\n",
    "│             └── ...\n",
    "│       └── sub03\n",
    "│             └── ...\n",
    "│       └── ...\n",
    "│             \n",
    "└── subjects\n",
    "│       ├── fsaverage\n",
    "│       └── sub01\n",
    "│              └── mri\n",
    "│              └── surf\n",
    "│              └── label\n",
    "│              └── ...\n",
    "│       └── sub02\n",
    "│              └── ...\n",
    "│       └── sub03\n",
    "│              └── ...\n",
    "└── scripts\n",
    "        ├── 01-run_anatomy.ipy\n",
    "        ├── 02-run_filtering.ipy\n",
    "        ├── 03-run_extract_events.py\n",
    "        ├── 04-make_epochs.py\n",
    "        ├── 05-make_forward.py\n",
    "        ├── 06-make_inverse.py\n",
    "        ├── ...\n",
    "        ├── 99-make_reports.ipy\n",
    "        ├── config.py\n",
    "```\n",
    "\n",
    "The MEG folder contains all the functional data (MEG/EEG) and the subjects folder contains all the anatomical files obtained via FreeSurfer."
   ]
  }
 ],
 "metadata": {
  "kernelspec": {
   "display_name": "Python 2",
   "language": "python",
   "name": "python2"
  },
  "language_info": {
   "codemirror_mode": {
    "name": "ipython",
    "version": 2
   },
   "file_extension": ".py",
   "mimetype": "text/x-python",
   "name": "python",
   "nbconvert_exporter": "python",
   "pygments_lexer": "ipython2",
   "version": "2.7.11"
  }
 },
 "nbformat": 4,
 "nbformat_minor": 0
}
