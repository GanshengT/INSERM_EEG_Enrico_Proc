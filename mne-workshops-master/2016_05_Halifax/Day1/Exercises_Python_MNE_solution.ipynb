{
 "cells": [
  {
   "cell_type": "markdown",
   "metadata": {},
   "source": [
    "# Exercise\n",
    "\n",
    "Author: Alexandre Gramfort\n",
    "\n",
    "We'll use Python to explore the content of the MNE-sample-data folder"
   ]
  },
  {
   "cell_type": "code",
   "execution_count": 1,
   "metadata": {
    "collapsed": true
   },
   "outputs": [],
   "source": [
    "from __future__ import print_function"
   ]
  },
  {
   "cell_type": "code",
   "execution_count": 2,
   "metadata": {
    "collapsed": false
   },
   "outputs": [
    {
     "name": "stdout",
     "output_type": "stream",
     "text": [
      "D:\\MEG\\MNE-sample-data\n"
     ]
    }
   ],
   "source": [
    "from mne.datasets import sample\n",
    "\n",
    "data_path = sample.data_path()\n",
    "print(data_path)"
   ]
  },
  {
   "cell_type": "code",
   "execution_count": 3,
   "metadata": {
    "collapsed": false
   },
   "outputs": [
    {
     "name": "stdout",
     "output_type": "stream",
     "text": [
      "[u'D:\\\\MEG\\\\MNE-sample-data/MEG/sample\\\\all-trans.fif', u'D:\\\\MEG\\\\MNE-sample-data/MEG/sample\\\\ernoise-cov.fif', u'D:\\\\MEG\\\\MNE-sample-data/MEG/sample\\\\ernoise_raw-eve.fif', u'D:\\\\MEG\\\\MNE-sample-data/MEG/sample\\\\ernoise_raw.fif', u'D:\\\\MEG\\\\MNE-sample-data/MEG/sample\\\\sample_audvis-ave.fif', u'D:\\\\MEG\\\\MNE-sample-data/MEG/sample\\\\sample_audvis-cov.fif', u'D:\\\\MEG\\\\MNE-sample-data/MEG/sample\\\\sample_audvis-eeg-oct-6-eeg-inv.fif', u'D:\\\\MEG\\\\MNE-sample-data/MEG/sample\\\\sample_audvis-eeg-oct-6-fwd.fif', u'D:\\\\MEG\\\\MNE-sample-data/MEG/sample\\\\sample_audvis-eeg-oct-6p-fwd.fif', u'D:\\\\MEG\\\\MNE-sample-data/MEG/sample\\\\sample_audvis-meg-eeg-oct-6-fwd.fif', u'D:\\\\MEG\\\\MNE-sample-data/MEG/sample\\\\sample_audvis-meg-eeg-oct-6-meg-eeg-diagnoise-inv.fif', u'D:\\\\MEG\\\\MNE-sample-data/MEG/sample\\\\sample_audvis-meg-eeg-oct-6-meg-eeg-inv.fif', u'D:\\\\MEG\\\\MNE-sample-data/MEG/sample\\\\sample_audvis-meg-oct-6-fwd.fif', u'D:\\\\MEG\\\\MNE-sample-data/MEG/sample\\\\sample_audvis-meg-oct-6-meg-diagnoise-inv.fif', u'D:\\\\MEG\\\\MNE-sample-data/MEG/sample\\\\sample_audvis-meg-oct-6-meg-fixed-inv.fif', u'D:\\\\MEG\\\\MNE-sample-data/MEG/sample\\\\sample_audvis-meg-oct-6-meg-inv.fif', u'D:\\\\MEG\\\\MNE-sample-data/MEG/sample\\\\sample_audvis-meg-oct-6-meg-nodepth-fixed-inv.fif', u'D:\\\\MEG\\\\MNE-sample-data/MEG/sample\\\\sample_audvis-meg-vol-7-fwd.fif', u'D:\\\\MEG\\\\MNE-sample-data/MEG/sample\\\\sample_audvis-meg-vol-7-meg-inv.fif', u'D:\\\\MEG\\\\MNE-sample-data/MEG/sample\\\\sample_audvis-no-filter-ave.fif', u'D:\\\\MEG\\\\MNE-sample-data/MEG/sample\\\\sample_audvis-shrunk-cov.fif', u'D:\\\\MEG\\\\MNE-sample-data/MEG/sample\\\\sample_audvis_ecg-eve.fif', u'D:\\\\MEG\\\\MNE-sample-data/MEG/sample\\\\sample_audvis_ecg-proj.fif', u'D:\\\\MEG\\\\MNE-sample-data/MEG/sample\\\\sample_audvis_eog-eve.fif', u'D:\\\\MEG\\\\MNE-sample-data/MEG/sample\\\\sample_audvis_eog-proj.fif', u'D:\\\\MEG\\\\MNE-sample-data/MEG/sample\\\\sample_audvis_filt-0-40_raw-eve.fif', u'D:\\\\MEG\\\\MNE-sample-data/MEG/sample\\\\sample_audvis_filt-0-40_raw.fif', u'D:\\\\MEG\\\\MNE-sample-data/MEG/sample\\\\sample_audvis_raw-eve.fif', u'D:\\\\MEG\\\\MNE-sample-data/MEG/sample\\\\sample_audvis_raw-trans.fif', u'D:\\\\MEG\\\\MNE-sample-data/MEG/sample\\\\sample_audvis_raw.fif']\n"
     ]
    }
   ],
   "source": [
    "import glob\n",
    "\n",
    "fif_files = glob.glob(data_path + '/MEG/sample/' + '*.fif')\n",
    "print(fif_files)"
   ]
  },
  {
   "cell_type": "markdown",
   "metadata": {},
   "source": [
    "# Questions\n",
    "\n",
    "- What is the type of the variable `fif_files` ?\n",
    "- Sort inplace the content of `fif_files`\n",
    "- What is the length of `fif_files` ?\n",
    "- How many files are raw files (end with `raw.fif`) ?\n",
    "- Create a new list restricted to the files of type raw?"
   ]
  },
  {
   "cell_type": "code",
   "execution_count": 7,
   "metadata": {
    "collapsed": false
   },
   "outputs": [
    {
     "name": "stdout",
     "output_type": "stream",
     "text": [
      "<type 'list'>\n",
      "30\n",
      "3\n",
      "3\n"
     ]
    }
   ],
   "source": [
    "print(type(fif_files))\n",
    "fif_files.sort()\n",
    "print(len(fif_files))\n",
    "print(len(glob.glob(data_path + '/MEG/sample/' + '*raw.fif')))\n",
    "# This also works\n",
    "raw_fif_files = [fif_file for fif_file in fif_files if fif_file.endswith('raw.fif')]\n",
    "print(len(raw_fif_files))"
   ]
  },
  {
   "cell_type": "code",
   "execution_count": 8,
   "metadata": {
    "collapsed": false
   },
   "outputs": [
    {
     "name": "stdout",
     "output_type": "stream",
     "text": [
      "D:\\MEG\\MNE-sample-data/subjects/sample/surf\n"
     ]
    }
   ],
   "source": [
    "subjects_dir = data_path + '/subjects'\n",
    "subject = 'sample'\n",
    "surf_dir = subjects_dir + \"/\" + subject + '/surf'\n",
    "print(surf_dir)"
   ]
  },
  {
   "cell_type": "markdown",
   "metadata": {},
   "source": [
    "# Questions\n",
    "\n",
    "- How many files is there in the folder `surf_dir` ?\n",
    "- How many files have a name that starts with `lh`?"
   ]
  },
  {
   "cell_type": "code",
   "execution_count": 10,
   "metadata": {
    "collapsed": false
   },
   "outputs": [
    {
     "name": "stdout",
     "output_type": "stream",
     "text": [
      "73\n",
      "39\n"
     ]
    }
   ],
   "source": [
    "print(len(glob.glob(surf_dir + '/*')))\n",
    "print(len(glob.glob(surf_dir + '/lh*')))"
   ]
  },
  {
   "cell_type": "code",
   "execution_count": null,
   "metadata": {
    "collapsed": true
   },
   "outputs": [],
   "source": []
  }
 ],
 "metadata": {
  "kernelspec": {
   "display_name": "Python 2",
   "language": "python",
   "name": "python2"
  },
  "language_info": {
   "codemirror_mode": {
    "name": "ipython",
    "version": 2
   },
   "file_extension": ".py",
   "mimetype": "text/x-python",
   "name": "python",
   "nbconvert_exporter": "python",
   "pygments_lexer": "ipython2",
   "version": "2.7.11"
  }
 },
 "nbformat": 4,
 "nbformat_minor": 0
}
