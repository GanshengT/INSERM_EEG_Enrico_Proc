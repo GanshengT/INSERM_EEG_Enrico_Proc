{
 "cells": [
  {
   "cell_type": "markdown",
   "metadata": {},
   "source": [
    "# Exercise\n",
    "\n",
    "Author: Alexandre Gramfort\n",
    "\n",
    "We'll use Python to explore the content of the MNE-sample-data folder"
   ]
  },
  {
   "cell_type": "code",
   "execution_count": 1,
   "metadata": {
    "collapsed": true
   },
   "outputs": [],
   "source": [
    "from __future__ import print_function"
   ]
  },
  {
   "cell_type": "code",
   "execution_count": 2,
   "metadata": {},
   "outputs": [
    {
     "name": "stdout",
     "output_type": "stream",
     "text": [
      "/Users/alex/work/src/mne-python/examples/MNE-sample-data\n"
     ]
    }
   ],
   "source": [
    "from mne.datasets import sample\n",
    "\n",
    "data_path = sample.data_path()\n",
    "print(data_path)"
   ]
  },
  {
   "cell_type": "code",
   "execution_count": 3,
   "metadata": {},
   "outputs": [
    {
     "name": "stdout",
     "output_type": "stream",
     "text": [
      "[u'/Users/alex/work/src/mne-python/examples/MNE-sample-data/MEG/sample/all-trans.fif', u'/Users/alex/work/src/mne-python/examples/MNE-sample-data/MEG/sample/ecg_proj.fif', u'/Users/alex/work/src/mne-python/examples/MNE-sample-data/MEG/sample/ernoise_raw.fif', u'/Users/alex/work/src/mne-python/examples/MNE-sample-data/MEG/sample/sample-epo.fif', u'/Users/alex/work/src/mne-python/examples/MNE-sample-data/MEG/sample/sample-trans.fif', u'/Users/alex/work/src/mne-python/examples/MNE-sample-data/MEG/sample/sample_audvis-ave.fif', u'/Users/alex/work/src/mne-python/examples/MNE-sample-data/MEG/sample/sample_audvis-cov.fif', u'/Users/alex/work/src/mne-python/examples/MNE-sample-data/MEG/sample/sample_audvis-eeg-oct-6-eeg-inv.fif', u'/Users/alex/work/src/mne-python/examples/MNE-sample-data/MEG/sample/sample_audvis-eeg-oct-6-fwd.fif', u'/Users/alex/work/src/mne-python/examples/MNE-sample-data/MEG/sample/sample_audvis-meg-eeg-ico-4-fwd.fif', u'/Users/alex/work/src/mne-python/examples/MNE-sample-data/MEG/sample/sample_audvis-meg-eeg-oct-6-fwd.fif', u'/Users/alex/work/src/mne-python/examples/MNE-sample-data/MEG/sample/sample_audvis-meg-eeg-oct-6-meg-eeg-diagnoise-inv.fif', u'/Users/alex/work/src/mne-python/examples/MNE-sample-data/MEG/sample/sample_audvis-meg-eeg-oct-6-meg-eeg-inv.fif', u'/Users/alex/work/src/mne-python/examples/MNE-sample-data/MEG/sample/sample_audvis-meg-oct-6-fwd.fif', u'/Users/alex/work/src/mne-python/examples/MNE-sample-data/MEG/sample/sample_audvis-meg-oct-6-meg-diagnoise-inv.fif', u'/Users/alex/work/src/mne-python/examples/MNE-sample-data/MEG/sample/sample_audvis-meg-oct-6-meg-fixed-inv.fif', u'/Users/alex/work/src/mne-python/examples/MNE-sample-data/MEG/sample/sample_audvis-meg-oct-6-meg-inv.fif', u'/Users/alex/work/src/mne-python/examples/MNE-sample-data/MEG/sample/sample_audvis-meg-oct-6-meg-nodepth-fixed-inv.fif', u'/Users/alex/work/src/mne-python/examples/MNE-sample-data/MEG/sample/sample_audvis-meg-vol-7-fwd.fif', u'/Users/alex/work/src/mne-python/examples/MNE-sample-data/MEG/sample/sample_audvis-meg-vol-7-meg-inv.fif', u'/Users/alex/work/src/mne-python/examples/MNE-sample-data/MEG/sample/sample_audvis-no-filter-ave.fif', u'/Users/alex/work/src/mne-python/examples/MNE-sample-data/MEG/sample/sample_audvis-oct-6p-src.fif', u'/Users/alex/work/src/mne-python/examples/MNE-sample-data/MEG/sample/sample_audvis-shrunk-cov.fif', u'/Users/alex/work/src/mne-python/examples/MNE-sample-data/MEG/sample/sample_audvis_ecg-eve.fif', u'/Users/alex/work/src/mne-python/examples/MNE-sample-data/MEG/sample/sample_audvis_ecg-proj.fif', u'/Users/alex/work/src/mne-python/examples/MNE-sample-data/MEG/sample/sample_audvis_ecg_avg-proj.fif', u'/Users/alex/work/src/mne-python/examples/MNE-sample-data/MEG/sample/sample_audvis_ecg_avg_proj.fif', u'/Users/alex/work/src/mne-python/examples/MNE-sample-data/MEG/sample/sample_audvis_eog-eve.fif', u'/Users/alex/work/src/mne-python/examples/MNE-sample-data/MEG/sample/sample_audvis_eog-proj.fif', u'/Users/alex/work/src/mne-python/examples/MNE-sample-data/MEG/sample/sample_audvis_eog_avg_proj.fif', u'/Users/alex/work/src/mne-python/examples/MNE-sample-data/MEG/sample/sample_audvis_filt-0-40_raw-eve.fif', u'/Users/alex/work/src/mne-python/examples/MNE-sample-data/MEG/sample/sample_audvis_filt-0-40_raw.fif', u'/Users/alex/work/src/mne-python/examples/MNE-sample-data/MEG/sample/sample_audvis_filt-1-80_raw.fif', u'/Users/alex/work/src/mne-python/examples/MNE-sample-data/MEG/sample/sample_audvis_filt-1HP_raw.fif', u'/Users/alex/work/src/mne-python/examples/MNE-sample-data/MEG/sample/sample_audvis_filt-hp-05-lp-40_raw.fif', u'/Users/alex/work/src/mne-python/examples/MNE-sample-data/MEG/sample/sample_audvis_filt-hp-05_raw.fif', u'/Users/alex/work/src/mne-python/examples/MNE-sample-data/MEG/sample/sample_audvis_left-cov.fif', u'/Users/alex/work/src/mne-python/examples/MNE-sample-data/MEG/sample/sample_audvis_noBad_raw_sss.fif', u'/Users/alex/work/src/mne-python/examples/MNE-sample-data/MEG/sample/sample_audvis_noBad_raw_sss_nobad.fif', u'/Users/alex/work/src/mne-python/examples/MNE-sample-data/MEG/sample/sample_audvis_raw-eve.fif', u'/Users/alex/work/src/mne-python/examples/MNE-sample-data/MEG/sample/sample_audvis_raw-trans.fif', u'/Users/alex/work/src/mne-python/examples/MNE-sample-data/MEG/sample/sample_audvis_raw.fif', u'/Users/alex/work/src/mne-python/examples/MNE-sample-data/MEG/sample/sample_audvis_right-cov.fif', u'/Users/alex/work/src/mne-python/examples/MNE-sample-data/MEG/sample/sample_audvis_stand_raw_sss.fif', u'/Users/alex/work/src/mne-python/examples/MNE-sample-data/MEG/sample/sample_audvis_stdOrigin_raw_sss.fif', u'/Users/alex/work/src/mne-python/examples/MNE-sample-data/MEG/sample/sample_audvis_stdOrigin_raw_sss_nobad.fif']\n"
     ]
    }
   ],
   "source": [
    "import glob\n",
    "\n",
    "fif_files = glob.glob(data_path + '/MEG/sample/' + '*.fif')\n",
    "print(fif_files)"
   ]
  },
  {
   "cell_type": "markdown",
   "metadata": {},
   "source": [
    "# Questions\n",
    "\n",
    "- What is the type of the variable `fif_files` ?\n",
    "- Sort inplace the content of `fif_files`\n",
    "- What is the length of `fif_files` ?\n",
    "- How many files are raw files (end with `raw.fif`) ?\n",
    "- Create a new list restricted to the files of type raw?"
   ]
  },
  {
   "cell_type": "code",
   "execution_count": null,
   "metadata": {
    "collapsed": true
   },
   "outputs": [],
   "source": []
  },
  {
   "cell_type": "code",
   "execution_count": 4,
   "metadata": {},
   "outputs": [
    {
     "name": "stdout",
     "output_type": "stream",
     "text": [
      "/Users/alex/work/src/mne-python/examples/MNE-sample-data/subjects/sample/surf\n"
     ]
    }
   ],
   "source": [
    "subjects_dir = data_path + '/subjects'\n",
    "subject = 'sample'\n",
    "surf_dir = subjects_dir + \"/\" + subject + '/surf'\n",
    "print(surf_dir)"
   ]
  },
  {
   "cell_type": "markdown",
   "metadata": {},
   "source": [
    "# Questions\n",
    "\n",
    "- How many files is there in the folder `surf_dir` ?\n",
    "- How many files have a name that starts with `lh`?"
   ]
  },
  {
   "cell_type": "code",
   "execution_count": null,
   "metadata": {
    "collapsed": true
   },
   "outputs": [],
   "source": []
  }
 ],
 "metadata": {
  "kernelspec": {
   "display_name": "Python 2",
   "language": "python",
   "name": "python2"
  },
  "language_info": {
   "codemirror_mode": {
    "name": "ipython",
    "version": 3
   },
   "file_extension": ".py",
   "mimetype": "text/x-python",
   "name": "python",
   "nbconvert_exporter": "python",
   "pygments_lexer": "ipython3",
   "version": "3.7.3"
  }
 },
 "nbformat": 4,
 "nbformat_minor": 1
}
